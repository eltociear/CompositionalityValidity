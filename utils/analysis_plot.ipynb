{
 "cells": [
  {
   "attachments": {},
   "cell_type": "markdown",
   "metadata": {},
   "source": [
    "### Import Packages"
   ]
  },
  {
   "cell_type": "code",
   "execution_count": 1,
   "metadata": {},
   "outputs": [],
   "source": [
    "import os\n",
    "import pandas as pd\n",
    "import matplotlib.pyplot as plt\n",
    "import matplotlib as mpl\n",
    "import matplotlib.font_manager\n",
    "from matplotlib.font_manager import findfont, FontProperties"
   ]
  },
  {
   "cell_type": "code",
   "execution_count": 2,
   "metadata": {},
   "outputs": [],
   "source": [
    "# Change this line if not running on Kaiser's devfair\n",
    "# Remember to run this line before any execution of the cells!\n",
    "os.environ['BASE_DIR'] = '/private/home/kaisersun/CompGenComparision'"
   ]
  },
  {
   "cell_type": "code",
   "execution_count": 3,
   "metadata": {},
   "outputs": [
    {
     "name": "stderr",
     "output_type": "stream",
     "text": [
      "/private/home/kaisersun/.conda/envs/compgen/lib/python3.9/site-packages/tqdm/auto.py:22: TqdmWarning: IProgress not found. Please update jupyter and ipywidgets. See https://ipywidgets.readthedocs.io/en/stable/user_install.html\n",
      "  from .autonotebook import tqdm as notebook_tqdm\n"
     ]
    }
   ],
   "source": [
    "from constants import BASE_DIR, DATA_DIR\n",
    "from helper_utils.helper_methods import list_datasets_and_their_splits, list_hardcode_datasets_and_their_splits"
   ]
  },
  {
   "cell_type": "code",
   "execution_count": 4,
   "metadata": {},
   "outputs": [],
   "source": [
    "# Set plotting parameters\n",
    "font = {'family' : 'serif',\n",
    "        # 'weight' : 'bold',\n",
    "        'size'   : 11}\n",
    "mpl.rcParams['figure.dpi'] = 600\n",
    "mpl.rc('font', **font)\n",
    "mpl.rc('xtick', labelsize=11) \n",
    "plt.rcParams[\"font.family\"] = \"Nimbus Roman\"\n",
    "mpl.rc('ytick', labelsize=11) "
   ]
  },
  {
   "attachments": {},
   "cell_type": "markdown",
   "metadata": {},
   "source": [
    "### Compute Dataset Stat\n",
    "\n",
    "Compute the basic stastics of different datasets, including number of instances, raw sequence length, lengths after tokenization, overlap between a subsample of instances.\n",
    "\n",
    "Documentation of each function can be found via `dataset_stat.py`. The functions in this section assumes access to datasets contain in `data/` dir of the BASE_DIR."
   ]
  },
  {
   "cell_type": "code",
   "execution_count": 5,
   "metadata": {},
   "outputs": [],
   "source": [
    "from dataset_stat import build_table_for_all_datasets, compute_sample_overlap_all_datasets"
   ]
  },
  {
   "cell_type": "code",
   "execution_count": 5,
   "metadata": {},
   "outputs": [
    {
     "name": "stdout",
     "output_type": "stream",
     "text": [
      "Loading no_mod of COGS dataset\n"
     ]
    },
    {
     "name": "stderr",
     "output_type": "stream",
     "text": [
      "Using custom data configuration default-18f92e37bf0a27f6\n",
      "Found cached dataset csv (/private/home/kaisersun/.cache/huggingface/datasets/csv/default-18f92e37bf0a27f6/0.0.0/6b34fb8fcf56f7c8ba51dc895bfa2bfbe43546f190a60fcf74bb5e8afdcc2317)\n"
     ]
    },
    {
     "data": {
      "application/vnd.jupyter.widget-view+json": {
       "model_id": "3d571e811a85460388ee207dd2f9de2c",
       "version_major": 2,
       "version_minor": 0
      },
      "text/plain": [
       "  0%|          | 0/4 [00:00<?, ?it/s]"
      ]
     },
     "metadata": {},
     "output_type": "display_data"
    },
    {
     "name": "stdout",
     "output_type": "stream",
     "text": [
      "Loading random_cvcv of COGS dataset\n"
     ]
    },
    {
     "name": "stderr",
     "output_type": "stream",
     "text": [
      "Using custom data configuration default-56c0fbf39aaf3900\n",
      "Found cached dataset csv (/private/home/kaisersun/.cache/huggingface/datasets/csv/default-56c0fbf39aaf3900/0.0.0/6b34fb8fcf56f7c8ba51dc895bfa2bfbe43546f190a60fcf74bb5e8afdcc2317)\n"
     ]
    },
    {
     "data": {
      "application/vnd.jupyter.widget-view+json": {
       "model_id": "eeec83753c3240a7b01e3f02d66ac44b",
       "version_major": 2,
       "version_minor": 0
      },
      "text/plain": [
       "  0%|          | 0/4 [00:00<?, ?it/s]"
      ]
     },
     "metadata": {},
     "output_type": "display_data"
    },
    {
     "name": "stdout",
     "output_type": "stream",
     "text": [
      "Loading random_str of COGS dataset\n"
     ]
    },
    {
     "name": "stderr",
     "output_type": "stream",
     "text": [
      "Using custom data configuration default-9254f464bf5c86d1\n",
      "Found cached dataset csv (/private/home/kaisersun/.cache/huggingface/datasets/csv/default-9254f464bf5c86d1/0.0.0/6b34fb8fcf56f7c8ba51dc895bfa2bfbe43546f190a60fcf74bb5e8afdcc2317)\n"
     ]
    },
    {
     "data": {
      "application/vnd.jupyter.widget-view+json": {
       "model_id": "42e29a992b354696bbfe1216faedd794",
       "version_major": 2,
       "version_minor": 0
      },
      "text/plain": [
       "  0%|          | 0/4 [00:00<?, ?it/s]"
      ]
     },
     "metadata": {},
     "output_type": "display_data"
    },
    {
     "name": "stdout",
     "output_type": "stream",
     "text": [
      "Loading length of COGS dataset\n"
     ]
    },
    {
     "name": "stderr",
     "output_type": "stream",
     "text": [
      "Using custom data configuration default-0d87e8178c318709\n",
      "Found cached dataset csv (/private/home/kaisersun/.cache/huggingface/datasets/csv/default-0d87e8178c318709/0.0.0/6b34fb8fcf56f7c8ba51dc895bfa2bfbe43546f190a60fcf74bb5e8afdcc2317)\n"
     ]
    },
    {
     "data": {
      "application/vnd.jupyter.widget-view+json": {
       "model_id": "4fb334310a144d048f50a2b6230604d1",
       "version_major": 2,
       "version_minor": 0
      },
      "text/plain": [
       "  0%|          | 0/2 [00:00<?, ?it/s]"
      ]
     },
     "metadata": {},
     "output_type": "display_data"
    },
    {
     "name": "stdout",
     "output_type": "stream",
     "text": [
      "Loading standard of geoquery dataset\n"
     ]
    },
    {
     "name": "stderr",
     "output_type": "stream",
     "text": [
      "Using custom data configuration default-37f1fbd974a89e3d\n",
      "Found cached dataset csv (/private/home/kaisersun/.cache/huggingface/datasets/csv/default-37f1fbd974a89e3d/0.0.0/6b34fb8fcf56f7c8ba51dc895bfa2bfbe43546f190a60fcf74bb5e8afdcc2317)\n"
     ]
    },
    {
     "data": {
      "application/vnd.jupyter.widget-view+json": {
       "model_id": "a5cd5444072648ebbf312c5e510a9645",
       "version_major": 2,
       "version_minor": 0
      },
      "text/plain": [
       "  0%|          | 0/2 [00:00<?, ?it/s]"
      ]
     },
     "metadata": {},
     "output_type": "display_data"
    },
    {
     "name": "stdout",
     "output_type": "stream",
     "text": [
      "Loading standard_random_cvcv of geoquery dataset\n"
     ]
    },
    {
     "name": "stderr",
     "output_type": "stream",
     "text": [
      "Using custom data configuration default-8561e2c0aa983743\n",
      "Found cached dataset csv (/private/home/kaisersun/.cache/huggingface/datasets/csv/default-8561e2c0aa983743/0.0.0/6b34fb8fcf56f7c8ba51dc895bfa2bfbe43546f190a60fcf74bb5e8afdcc2317)\n"
     ]
    },
    {
     "data": {
      "application/vnd.jupyter.widget-view+json": {
       "model_id": "00c74cc081144676a5f71e75fc472140",
       "version_major": 2,
       "version_minor": 0
      },
      "text/plain": [
       "  0%|          | 0/2 [00:00<?, ?it/s]"
      ]
     },
     "metadata": {},
     "output_type": "display_data"
    },
    {
     "name": "stdout",
     "output_type": "stream",
     "text": [
      "Loading standard_random_str of geoquery dataset\n"
     ]
    },
    {
     "name": "stderr",
     "output_type": "stream",
     "text": [
      "Using custom data configuration default-a90f4a1d09c5531a\n",
      "Found cached dataset csv (/private/home/kaisersun/.cache/huggingface/datasets/csv/default-a90f4a1d09c5531a/0.0.0/6b34fb8fcf56f7c8ba51dc895bfa2bfbe43546f190a60fcf74bb5e8afdcc2317)\n"
     ]
    },
    {
     "data": {
      "application/vnd.jupyter.widget-view+json": {
       "model_id": "f5b26acaa410468489071a16adba9ecb",
       "version_major": 2,
       "version_minor": 0
      },
      "text/plain": [
       "  0%|          | 0/2 [00:00<?, ?it/s]"
      ]
     },
     "metadata": {},
     "output_type": "display_data"
    },
    {
     "name": "stdout",
     "output_type": "stream",
     "text": [
      "Loading template of geoquery dataset\n"
     ]
    },
    {
     "name": "stderr",
     "output_type": "stream",
     "text": [
      "Using custom data configuration default-87c5d6366797d405\n",
      "Found cached dataset csv (/private/home/kaisersun/.cache/huggingface/datasets/csv/default-87c5d6366797d405/0.0.0/6b34fb8fcf56f7c8ba51dc895bfa2bfbe43546f190a60fcf74bb5e8afdcc2317)\n"
     ]
    },
    {
     "data": {
      "application/vnd.jupyter.widget-view+json": {
       "model_id": "89874f5538d94752b0d2d42f00226544",
       "version_major": 2,
       "version_minor": 0
      },
      "text/plain": [
       "  0%|          | 0/2 [00:00<?, ?it/s]"
      ]
     },
     "metadata": {},
     "output_type": "display_data"
    },
    {
     "name": "stdout",
     "output_type": "stream",
     "text": [
      "Loading tmcd of geoquery dataset\n"
     ]
    },
    {
     "name": "stderr",
     "output_type": "stream",
     "text": [
      "Using custom data configuration default-3e45cea845a8949e\n",
      "Found cached dataset csv (/private/home/kaisersun/.cache/huggingface/datasets/csv/default-3e45cea845a8949e/0.0.0/6b34fb8fcf56f7c8ba51dc895bfa2bfbe43546f190a60fcf74bb5e8afdcc2317)\n"
     ]
    },
    {
     "data": {
      "application/vnd.jupyter.widget-view+json": {
       "model_id": "2b35d4d6c4b34262bc1cf7d689d255bf",
       "version_major": 2,
       "version_minor": 0
      },
      "text/plain": [
       "  0%|          | 0/2 [00:00<?, ?it/s]"
      ]
     },
     "metadata": {},
     "output_type": "display_data"
    },
    {
     "name": "stdout",
     "output_type": "stream",
     "text": [
      "Loading simple of SCAN dataset\n"
     ]
    },
    {
     "name": "stderr",
     "output_type": "stream",
     "text": [
      "Using custom data configuration default-d4e1d7e136305ae8\n",
      "Found cached dataset csv (/private/home/kaisersun/.cache/huggingface/datasets/csv/default-d4e1d7e136305ae8/0.0.0/6b34fb8fcf56f7c8ba51dc895bfa2bfbe43546f190a60fcf74bb5e8afdcc2317)\n"
     ]
    },
    {
     "data": {
      "application/vnd.jupyter.widget-view+json": {
       "model_id": "e12658c3620141a795f0284a117cd047",
       "version_major": 2,
       "version_minor": 0
      },
      "text/plain": [
       "  0%|          | 0/2 [00:00<?, ?it/s]"
      ]
     },
     "metadata": {},
     "output_type": "display_data"
    },
    {
     "name": "stdout",
     "output_type": "stream",
     "text": [
      "Loading length of SCAN dataset\n"
     ]
    },
    {
     "name": "stderr",
     "output_type": "stream",
     "text": [
      "Using custom data configuration default-9023803587722f6c\n",
      "Found cached dataset csv (/private/home/kaisersun/.cache/huggingface/datasets/csv/default-9023803587722f6c/0.0.0/6b34fb8fcf56f7c8ba51dc895bfa2bfbe43546f190a60fcf74bb5e8afdcc2317)\n"
     ]
    },
    {
     "data": {
      "application/vnd.jupyter.widget-view+json": {
       "model_id": "44097e669e13455499ae1c5d69db365a",
       "version_major": 2,
       "version_minor": 0
      },
      "text/plain": [
       "  0%|          | 0/2 [00:00<?, ?it/s]"
      ]
     },
     "metadata": {},
     "output_type": "display_data"
    },
    {
     "name": "stdout",
     "output_type": "stream",
     "text": [
      "Loading mcd1 of SCAN dataset\n"
     ]
    },
    {
     "name": "stderr",
     "output_type": "stream",
     "text": [
      "Using custom data configuration default-9aa18a76555e9263\n",
      "Found cached dataset csv (/private/home/kaisersun/.cache/huggingface/datasets/csv/default-9aa18a76555e9263/0.0.0/6b34fb8fcf56f7c8ba51dc895bfa2bfbe43546f190a60fcf74bb5e8afdcc2317)\n"
     ]
    },
    {
     "data": {
      "application/vnd.jupyter.widget-view+json": {
       "model_id": "e38be297ca434d68a7ff7d43ddb14908",
       "version_major": 2,
       "version_minor": 0
      },
      "text/plain": [
       "  0%|          | 0/3 [00:00<?, ?it/s]"
      ]
     },
     "metadata": {},
     "output_type": "display_data"
    },
    {
     "name": "stdout",
     "output_type": "stream",
     "text": [
      "Loading mcd2 of SCAN dataset\n"
     ]
    },
    {
     "name": "stderr",
     "output_type": "stream",
     "text": [
      "Using custom data configuration default-ddaf263c1105fa1e\n",
      "Found cached dataset csv (/private/home/kaisersun/.cache/huggingface/datasets/csv/default-ddaf263c1105fa1e/0.0.0/6b34fb8fcf56f7c8ba51dc895bfa2bfbe43546f190a60fcf74bb5e8afdcc2317)\n"
     ]
    },
    {
     "data": {
      "application/vnd.jupyter.widget-view+json": {
       "model_id": "a78edb3220a0483e830c02e069098564",
       "version_major": 2,
       "version_minor": 0
      },
      "text/plain": [
       "  0%|          | 0/3 [00:00<?, ?it/s]"
      ]
     },
     "metadata": {},
     "output_type": "display_data"
    },
    {
     "name": "stdout",
     "output_type": "stream",
     "text": [
      "Loading mcd3 of SCAN dataset\n"
     ]
    },
    {
     "name": "stderr",
     "output_type": "stream",
     "text": [
      "Using custom data configuration default-9f54db5c0730a94f\n",
      "Found cached dataset csv (/private/home/kaisersun/.cache/huggingface/datasets/csv/default-9f54db5c0730a94f/0.0.0/6b34fb8fcf56f7c8ba51dc895bfa2bfbe43546f190a60fcf74bb5e8afdcc2317)\n"
     ]
    },
    {
     "data": {
      "application/vnd.jupyter.widget-view+json": {
       "model_id": "f62ea58162ee463aaffec502c1310ffc",
       "version_major": 2,
       "version_minor": 0
      },
      "text/plain": [
       "  0%|          | 0/3 [00:00<?, ?it/s]"
      ]
     },
     "metadata": {},
     "output_type": "display_data"
    },
    {
     "name": "stdout",
     "output_type": "stream",
     "text": [
      "Loading addprim_jump of SCAN dataset\n"
     ]
    },
    {
     "name": "stderr",
     "output_type": "stream",
     "text": [
      "Using custom data configuration default-4e4e3e4e75b12ed0\n",
      "Found cached dataset csv (/private/home/kaisersun/.cache/huggingface/datasets/csv/default-4e4e3e4e75b12ed0/0.0.0/6b34fb8fcf56f7c8ba51dc895bfa2bfbe43546f190a60fcf74bb5e8afdcc2317)\n"
     ]
    },
    {
     "data": {
      "application/vnd.jupyter.widget-view+json": {
       "model_id": "000440fed23a4fd0bd465493e14dd739",
       "version_major": 2,
       "version_minor": 0
      },
      "text/plain": [
       "  0%|          | 0/2 [00:00<?, ?it/s]"
      ]
     },
     "metadata": {},
     "output_type": "display_data"
    },
    {
     "name": "stdout",
     "output_type": "stream",
     "text": [
      "Loading addprim_turn_left of SCAN dataset\n"
     ]
    },
    {
     "name": "stderr",
     "output_type": "stream",
     "text": [
      "Using custom data configuration default-0e482af7cec70122\n",
      "Found cached dataset csv (/private/home/kaisersun/.cache/huggingface/datasets/csv/default-0e482af7cec70122/0.0.0/6b34fb8fcf56f7c8ba51dc895bfa2bfbe43546f190a60fcf74bb5e8afdcc2317)\n"
     ]
    },
    {
     "data": {
      "application/vnd.jupyter.widget-view+json": {
       "model_id": "c0e76aab8dcf4b37865a781cfb960e93",
       "version_major": 2,
       "version_minor": 0
      },
      "text/plain": [
       "  0%|          | 0/2 [00:00<?, ?it/s]"
      ]
     },
     "metadata": {},
     "output_type": "display_data"
    },
    {
     "name": "stdout",
     "output_type": "stream",
     "text": [
      "Loading jump_random_cvcv of SCAN dataset\n"
     ]
    },
    {
     "name": "stderr",
     "output_type": "stream",
     "text": [
      "Using custom data configuration default-1b027dd46da96c96\n",
      "Found cached dataset csv (/private/home/kaisersun/.cache/huggingface/datasets/csv/default-1b027dd46da96c96/0.0.0/6b34fb8fcf56f7c8ba51dc895bfa2bfbe43546f190a60fcf74bb5e8afdcc2317)\n"
     ]
    },
    {
     "data": {
      "application/vnd.jupyter.widget-view+json": {
       "model_id": "b503dd2b8945483cb21773e1e6445b5b",
       "version_major": 2,
       "version_minor": 0
      },
      "text/plain": [
       "  0%|          | 0/2 [00:00<?, ?it/s]"
      ]
     },
     "metadata": {},
     "output_type": "display_data"
    },
    {
     "name": "stdout",
     "output_type": "stream",
     "text": [
      "Loading jump_random_str of SCAN dataset\n"
     ]
    },
    {
     "name": "stderr",
     "output_type": "stream",
     "text": [
      "Using custom data configuration default-89b17412571a4a55\n",
      "Found cached dataset csv (/private/home/kaisersun/.cache/huggingface/datasets/csv/default-89b17412571a4a55/0.0.0/6b34fb8fcf56f7c8ba51dc895bfa2bfbe43546f190a60fcf74bb5e8afdcc2317)\n"
     ]
    },
    {
     "data": {
      "application/vnd.jupyter.widget-view+json": {
       "model_id": "47944d86a1b24bd1bdc6853c0ee4bbce",
       "version_major": 2,
       "version_minor": 0
      },
      "text/plain": [
       "  0%|          | 0/2 [00:00<?, ?it/s]"
      ]
     },
     "metadata": {},
     "output_type": "display_data"
    },
    {
     "name": "stdout",
     "output_type": "stream",
     "text": [
      "Loading turn_left_random_cvcv of SCAN dataset\n"
     ]
    },
    {
     "name": "stderr",
     "output_type": "stream",
     "text": [
      "Using custom data configuration default-6e58a87d0b0e261d\n",
      "Found cached dataset csv (/private/home/kaisersun/.cache/huggingface/datasets/csv/default-6e58a87d0b0e261d/0.0.0/6b34fb8fcf56f7c8ba51dc895bfa2bfbe43546f190a60fcf74bb5e8afdcc2317)\n"
     ]
    },
    {
     "data": {
      "application/vnd.jupyter.widget-view+json": {
       "model_id": "34fbb34e8bdd46028f466428b389c849",
       "version_major": 2,
       "version_minor": 0
      },
      "text/plain": [
       "  0%|          | 0/2 [00:00<?, ?it/s]"
      ]
     },
     "metadata": {},
     "output_type": "display_data"
    },
    {
     "name": "stdout",
     "output_type": "stream",
     "text": [
      "Loading turn_left_random_str of SCAN dataset\n"
     ]
    },
    {
     "name": "stderr",
     "output_type": "stream",
     "text": [
      "Using custom data configuration default-a1dc7b05e2bd86cf\n",
      "Found cached dataset csv (/private/home/kaisersun/.cache/huggingface/datasets/csv/default-a1dc7b05e2bd86cf/0.0.0/6b34fb8fcf56f7c8ba51dc895bfa2bfbe43546f190a60fcf74bb5e8afdcc2317)\n"
     ]
    },
    {
     "data": {
      "application/vnd.jupyter.widget-view+json": {
       "model_id": "39650fc017e543b2894e102479db079a",
       "version_major": 2,
       "version_minor": 0
      },
      "text/plain": [
       "  0%|          | 0/2 [00:00<?, ?it/s]"
      ]
     },
     "metadata": {},
     "output_type": "display_data"
    },
    {
     "name": "stdout",
     "output_type": "stream",
     "text": [
      "Loading random of spider dataset\n"
     ]
    },
    {
     "name": "stderr",
     "output_type": "stream",
     "text": [
      "Using custom data configuration default-bbb58555481a2284\n",
      "Found cached dataset csv (/private/home/kaisersun/.cache/huggingface/datasets/csv/default-bbb58555481a2284/0.0.0/6b34fb8fcf56f7c8ba51dc895bfa2bfbe43546f190a60fcf74bb5e8afdcc2317)\n"
     ]
    },
    {
     "data": {
      "application/vnd.jupyter.widget-view+json": {
       "model_id": "c8c172971a084b55a28c8aab4d4ebf28",
       "version_major": 2,
       "version_minor": 0
      },
      "text/plain": [
       "  0%|          | 0/2 [00:00<?, ?it/s]"
      ]
     },
     "metadata": {},
     "output_type": "display_data"
    },
    {
     "name": "stdout",
     "output_type": "stream",
     "text": [
      "Loading length of spider dataset\n"
     ]
    },
    {
     "name": "stderr",
     "output_type": "stream",
     "text": [
      "Using custom data configuration default-1d5e7060260c64cc\n",
      "Found cached dataset csv (/private/home/kaisersun/.cache/huggingface/datasets/csv/default-1d5e7060260c64cc/0.0.0/6b34fb8fcf56f7c8ba51dc895bfa2bfbe43546f190a60fcf74bb5e8afdcc2317)\n"
     ]
    },
    {
     "data": {
      "application/vnd.jupyter.widget-view+json": {
       "model_id": "bfbee46b745544088d2b06705370aee6",
       "version_major": 2,
       "version_minor": 0
      },
      "text/plain": [
       "  0%|          | 0/2 [00:00<?, ?it/s]"
      ]
     },
     "metadata": {},
     "output_type": "display_data"
    },
    {
     "name": "stdout",
     "output_type": "stream",
     "text": [
      "Loading template of spider dataset\n"
     ]
    },
    {
     "name": "stderr",
     "output_type": "stream",
     "text": [
      "Using custom data configuration default-c65cda54df9933c4\n",
      "Found cached dataset csv (/private/home/kaisersun/.cache/huggingface/datasets/csv/default-c65cda54df9933c4/0.0.0/6b34fb8fcf56f7c8ba51dc895bfa2bfbe43546f190a60fcf74bb5e8afdcc2317)\n"
     ]
    },
    {
     "data": {
      "application/vnd.jupyter.widget-view+json": {
       "model_id": "041ca0a08951441d946fef6ec0f62453",
       "version_major": 2,
       "version_minor": 0
      },
      "text/plain": [
       "  0%|          | 0/2 [00:00<?, ?it/s]"
      ]
     },
     "metadata": {},
     "output_type": "display_data"
    },
    {
     "name": "stdout",
     "output_type": "stream",
     "text": [
      "Loading tmcd of spider dataset\n"
     ]
    },
    {
     "name": "stderr",
     "output_type": "stream",
     "text": [
      "Using custom data configuration default-3497cec54847847a\n",
      "Found cached dataset csv (/private/home/kaisersun/.cache/huggingface/datasets/csv/default-3497cec54847847a/0.0.0/6b34fb8fcf56f7c8ba51dc895bfa2bfbe43546f190a60fcf74bb5e8afdcc2317)\n"
     ]
    },
    {
     "data": {
      "application/vnd.jupyter.widget-view+json": {
       "model_id": "12d8b10365fd4d94943562cc7e464bd8",
       "version_major": 2,
       "version_minor": 0
      },
      "text/plain": [
       "  0%|          | 0/2 [00:00<?, ?it/s]"
      ]
     },
     "metadata": {},
     "output_type": "display_data"
    },
    {
     "name": "stdout",
     "output_type": "stream",
     "text": [
      "+----------+-----------------------+-------+------------+-------+-------+---------+\n",
      "| Dataset  |         Split         | train | validation |  test |  gen  | Overall |\n",
      "+----------+-----------------------+-------+------------+-------+-------+---------+\n",
      "|   COGS   |         no_mod        | 24155 |    3000    |  3000 | 21000 |  51155  |\n",
      "|   COGS   |      random_cvcv      | 24155 |    3000    |  3000 | 21000 |  51155  |\n",
      "|   COGS   |       random_str      | 24155 |    3000    |  3000 | 21000 |  51155  |\n",
      "|   COGS   |         length        | 24156 |     -      | 23999 |   -   |  48155  |\n",
      "| geoquery |        standard       |  600  |     -      |  280  |   -   |   880   |\n",
      "| geoquery |  standard_random_cvcv |  600  |     -      |  280  |   -   |   880   |\n",
      "| geoquery |  standard_random_str  |  600  |     -      |  280  |   -   |   880   |\n",
      "| geoquery |        template       |  441  |     -      |  439  |   -   |   880   |\n",
      "| geoquery |          tmcd         |  440  |     -      |  440  |   -   |   880   |\n",
      "|   SCAN   |         simple        | 16728 |     -      |  4182 |   -   |  20910  |\n",
      "|   SCAN   |         length        | 16990 |     -      |  3920 |   -   |  20910  |\n",
      "|   SCAN   |          mcd1         |  8365 |    1045    |  1045 |   -   |  10455  |\n",
      "|   SCAN   |          mcd2         |  8365 |    1045    |  1045 |   -   |  10455  |\n",
      "|   SCAN   |          mcd3         |  8365 |    1045    |  1045 |   -   |  10455  |\n",
      "|   SCAN   |      addprim_jump     | 14670 |     -      |  7706 |   -   |  22376  |\n",
      "|   SCAN   |   addprim_turn_left   | 21890 |     -      |  1208 |   -   |  23098  |\n",
      "|   SCAN   |    jump_random_cvcv   | 14670 |     -      |  7706 |   -   |  22376  |\n",
      "|   SCAN   |    jump_random_str    | 14670 |     -      |  7706 |   -   |  22376  |\n",
      "|   SCAN   | turn_left_random_cvcv | 21890 |     -      |  1208 |   -   |  23098  |\n",
      "|   SCAN   |  turn_left_random_str | 21890 |     -      |  1208 |   -   |  23098  |\n",
      "|  spider  |         random        |  3282 |     -      |  1094 |   -   |   4376  |\n",
      "|  spider  |         length        |  3282 |     -      |  1094 |   -   |   4376  |\n",
      "|  spider  |        template       |  3280 |     -      |  1096 |   -   |   4376  |\n",
      "|  spider  |          tmcd         |  3282 |     -      |  1094 |   -   |   4376  |\n",
      "+----------+-----------------------+-------+------------+-------+-------+---------+\n"
     ]
    }
   ],
   "source": [
    "# Outputs a PrettyTable for the data type inputed; Data type = str in {num_instances, raw_avg_length, tok_seq_length, lexical_overlap}\n",
    "# sub_datatype = {input, output}, used when computing raw_avg_length and tok_seq_length.\n",
    "# model name = {HF model names with FastTokenizers}, default to t5-base. Can be facebook/bart-base; used only for computing seq length after tokenization.\n",
    "print(\"Computing number of instances\")\n",
    "build_table_for_all_datasets(\"num_instances\")"
   ]
  },
  {
   "cell_type": "code",
   "execution_count": 6,
   "metadata": {},
   "outputs": [
    {
     "name": "stdout",
     "output_type": "stream",
     "text": [
      "Computing average length of each dataset\n",
      "Loading no_mod of COGS dataset\n"
     ]
    },
    {
     "name": "stderr",
     "output_type": "stream",
     "text": [
      "WARNING:datasets.builder:Using custom data configuration default-18f92e37bf0a27f6\n",
      "WARNING:datasets.builder:Found cached dataset csv (/private/home/kaisersun/.cache/huggingface/datasets/csv/default-18f92e37bf0a27f6/0.0.0/6b34fb8fcf56f7c8ba51dc895bfa2bfbe43546f190a60fcf74bb5e8afdcc2317)\n"
     ]
    },
    {
     "data": {
      "application/vnd.jupyter.widget-view+json": {
       "model_id": "ca17f5368fbf4c108d7fd0b959476861",
       "version_major": 2,
       "version_minor": 0
      },
      "text/plain": [
       "  0%|          | 0/4 [00:00<?, ?it/s]"
      ]
     },
     "metadata": {},
     "output_type": "display_data"
    },
    {
     "name": "stdout",
     "output_type": "stream",
     "text": [
      "Loading random_cvcv of COGS dataset\n"
     ]
    },
    {
     "name": "stderr",
     "output_type": "stream",
     "text": [
      "WARNING:datasets.builder:Using custom data configuration default-56c0fbf39aaf3900\n",
      "WARNING:datasets.builder:Found cached dataset csv (/private/home/kaisersun/.cache/huggingface/datasets/csv/default-56c0fbf39aaf3900/0.0.0/6b34fb8fcf56f7c8ba51dc895bfa2bfbe43546f190a60fcf74bb5e8afdcc2317)\n"
     ]
    },
    {
     "data": {
      "application/vnd.jupyter.widget-view+json": {
       "model_id": "67e970a1bbe34252bba83212ce88fbdb",
       "version_major": 2,
       "version_minor": 0
      },
      "text/plain": [
       "  0%|          | 0/4 [00:00<?, ?it/s]"
      ]
     },
     "metadata": {},
     "output_type": "display_data"
    },
    {
     "name": "stdout",
     "output_type": "stream",
     "text": [
      "Loading random_str of COGS dataset\n"
     ]
    },
    {
     "name": "stderr",
     "output_type": "stream",
     "text": [
      "WARNING:datasets.builder:Using custom data configuration default-9254f464bf5c86d1\n",
      "WARNING:datasets.builder:Found cached dataset csv (/private/home/kaisersun/.cache/huggingface/datasets/csv/default-9254f464bf5c86d1/0.0.0/6b34fb8fcf56f7c8ba51dc895bfa2bfbe43546f190a60fcf74bb5e8afdcc2317)\n"
     ]
    },
    {
     "data": {
      "application/vnd.jupyter.widget-view+json": {
       "model_id": "3196e1898d3149b88659fac8f0351acc",
       "version_major": 2,
       "version_minor": 0
      },
      "text/plain": [
       "  0%|          | 0/4 [00:00<?, ?it/s]"
      ]
     },
     "metadata": {},
     "output_type": "display_data"
    },
    {
     "name": "stdout",
     "output_type": "stream",
     "text": [
      "Loading length of COGS dataset\n"
     ]
    },
    {
     "name": "stderr",
     "output_type": "stream",
     "text": [
      "WARNING:datasets.builder:Using custom data configuration default-0d87e8178c318709\n",
      "WARNING:datasets.builder:Found cached dataset csv (/private/home/kaisersun/.cache/huggingface/datasets/csv/default-0d87e8178c318709/0.0.0/6b34fb8fcf56f7c8ba51dc895bfa2bfbe43546f190a60fcf74bb5e8afdcc2317)\n"
     ]
    },
    {
     "data": {
      "application/vnd.jupyter.widget-view+json": {
       "model_id": "6619c215483c4221874ae984fabcd51b",
       "version_major": 2,
       "version_minor": 0
      },
      "text/plain": [
       "  0%|          | 0/2 [00:00<?, ?it/s]"
      ]
     },
     "metadata": {},
     "output_type": "display_data"
    },
    {
     "name": "stdout",
     "output_type": "stream",
     "text": [
      "Loading standard of geoquery dataset\n"
     ]
    },
    {
     "name": "stderr",
     "output_type": "stream",
     "text": [
      "WARNING:datasets.builder:Using custom data configuration default-37f1fbd974a89e3d\n",
      "WARNING:datasets.builder:Found cached dataset csv (/private/home/kaisersun/.cache/huggingface/datasets/csv/default-37f1fbd974a89e3d/0.0.0/6b34fb8fcf56f7c8ba51dc895bfa2bfbe43546f190a60fcf74bb5e8afdcc2317)\n"
     ]
    },
    {
     "data": {
      "application/vnd.jupyter.widget-view+json": {
       "model_id": "efadb4789d1340fcbd071ebc8814d685",
       "version_major": 2,
       "version_minor": 0
      },
      "text/plain": [
       "  0%|          | 0/2 [00:00<?, ?it/s]"
      ]
     },
     "metadata": {},
     "output_type": "display_data"
    },
    {
     "name": "stdout",
     "output_type": "stream",
     "text": [
      "Loading standard_random_cvcv of geoquery dataset\n"
     ]
    },
    {
     "name": "stderr",
     "output_type": "stream",
     "text": [
      "WARNING:datasets.builder:Using custom data configuration default-8561e2c0aa983743\n",
      "WARNING:datasets.builder:Found cached dataset csv (/private/home/kaisersun/.cache/huggingface/datasets/csv/default-8561e2c0aa983743/0.0.0/6b34fb8fcf56f7c8ba51dc895bfa2bfbe43546f190a60fcf74bb5e8afdcc2317)\n"
     ]
    },
    {
     "data": {
      "application/vnd.jupyter.widget-view+json": {
       "model_id": "d549cf771f6b46f3b3de0c6a1e18dab2",
       "version_major": 2,
       "version_minor": 0
      },
      "text/plain": [
       "  0%|          | 0/2 [00:00<?, ?it/s]"
      ]
     },
     "metadata": {},
     "output_type": "display_data"
    },
    {
     "name": "stdout",
     "output_type": "stream",
     "text": [
      "Loading standard_random_str of geoquery dataset\n"
     ]
    },
    {
     "name": "stderr",
     "output_type": "stream",
     "text": [
      "WARNING:datasets.builder:Using custom data configuration default-a90f4a1d09c5531a\n",
      "WARNING:datasets.builder:Found cached dataset csv (/private/home/kaisersun/.cache/huggingface/datasets/csv/default-a90f4a1d09c5531a/0.0.0/6b34fb8fcf56f7c8ba51dc895bfa2bfbe43546f190a60fcf74bb5e8afdcc2317)\n"
     ]
    },
    {
     "data": {
      "application/vnd.jupyter.widget-view+json": {
       "model_id": "c226cfc6f4534dc5899fd93f4f4ff618",
       "version_major": 2,
       "version_minor": 0
      },
      "text/plain": [
       "  0%|          | 0/2 [00:00<?, ?it/s]"
      ]
     },
     "metadata": {},
     "output_type": "display_data"
    },
    {
     "name": "stdout",
     "output_type": "stream",
     "text": [
      "Loading template of geoquery dataset\n"
     ]
    },
    {
     "name": "stderr",
     "output_type": "stream",
     "text": [
      "WARNING:datasets.builder:Using custom data configuration default-87c5d6366797d405\n",
      "WARNING:datasets.builder:Found cached dataset csv (/private/home/kaisersun/.cache/huggingface/datasets/csv/default-87c5d6366797d405/0.0.0/6b34fb8fcf56f7c8ba51dc895bfa2bfbe43546f190a60fcf74bb5e8afdcc2317)\n"
     ]
    },
    {
     "data": {
      "application/vnd.jupyter.widget-view+json": {
       "model_id": "7d896e1b3042405baa33681a9e3473be",
       "version_major": 2,
       "version_minor": 0
      },
      "text/plain": [
       "  0%|          | 0/2 [00:00<?, ?it/s]"
      ]
     },
     "metadata": {},
     "output_type": "display_data"
    },
    {
     "name": "stdout",
     "output_type": "stream",
     "text": [
      "Loading tmcd of geoquery dataset\n"
     ]
    },
    {
     "name": "stderr",
     "output_type": "stream",
     "text": [
      "WARNING:datasets.builder:Using custom data configuration default-3e45cea845a8949e\n",
      "WARNING:datasets.builder:Found cached dataset csv (/private/home/kaisersun/.cache/huggingface/datasets/csv/default-3e45cea845a8949e/0.0.0/6b34fb8fcf56f7c8ba51dc895bfa2bfbe43546f190a60fcf74bb5e8afdcc2317)\n"
     ]
    },
    {
     "data": {
      "application/vnd.jupyter.widget-view+json": {
       "model_id": "648f4bfcf0004fc8bf71c498620fcc94",
       "version_major": 2,
       "version_minor": 0
      },
      "text/plain": [
       "  0%|          | 0/2 [00:00<?, ?it/s]"
      ]
     },
     "metadata": {},
     "output_type": "display_data"
    },
    {
     "name": "stdout",
     "output_type": "stream",
     "text": [
      "Loading simple of SCAN dataset\n"
     ]
    },
    {
     "name": "stderr",
     "output_type": "stream",
     "text": [
      "WARNING:datasets.builder:Using custom data configuration default-d4e1d7e136305ae8\n",
      "WARNING:datasets.builder:Found cached dataset csv (/private/home/kaisersun/.cache/huggingface/datasets/csv/default-d4e1d7e136305ae8/0.0.0/6b34fb8fcf56f7c8ba51dc895bfa2bfbe43546f190a60fcf74bb5e8afdcc2317)\n"
     ]
    },
    {
     "data": {
      "application/vnd.jupyter.widget-view+json": {
       "model_id": "351c2b93280e49929a41e05a51fa23c0",
       "version_major": 2,
       "version_minor": 0
      },
      "text/plain": [
       "  0%|          | 0/2 [00:00<?, ?it/s]"
      ]
     },
     "metadata": {},
     "output_type": "display_data"
    },
    {
     "name": "stdout",
     "output_type": "stream",
     "text": [
      "Loading length of SCAN dataset\n"
     ]
    },
    {
     "name": "stderr",
     "output_type": "stream",
     "text": [
      "WARNING:datasets.builder:Using custom data configuration default-9023803587722f6c\n",
      "WARNING:datasets.builder:Found cached dataset csv (/private/home/kaisersun/.cache/huggingface/datasets/csv/default-9023803587722f6c/0.0.0/6b34fb8fcf56f7c8ba51dc895bfa2bfbe43546f190a60fcf74bb5e8afdcc2317)\n"
     ]
    },
    {
     "data": {
      "application/vnd.jupyter.widget-view+json": {
       "model_id": "d73403675b3541a2bb729ad605af5491",
       "version_major": 2,
       "version_minor": 0
      },
      "text/plain": [
       "  0%|          | 0/2 [00:00<?, ?it/s]"
      ]
     },
     "metadata": {},
     "output_type": "display_data"
    },
    {
     "name": "stdout",
     "output_type": "stream",
     "text": [
      "Loading mcd1 of SCAN dataset\n"
     ]
    },
    {
     "name": "stderr",
     "output_type": "stream",
     "text": [
      "WARNING:datasets.builder:Using custom data configuration default-9aa18a76555e9263\n",
      "WARNING:datasets.builder:Found cached dataset csv (/private/home/kaisersun/.cache/huggingface/datasets/csv/default-9aa18a76555e9263/0.0.0/6b34fb8fcf56f7c8ba51dc895bfa2bfbe43546f190a60fcf74bb5e8afdcc2317)\n"
     ]
    },
    {
     "data": {
      "application/vnd.jupyter.widget-view+json": {
       "model_id": "a2e90b1fab1b44c186403a035cf7e366",
       "version_major": 2,
       "version_minor": 0
      },
      "text/plain": [
       "  0%|          | 0/3 [00:00<?, ?it/s]"
      ]
     },
     "metadata": {},
     "output_type": "display_data"
    },
    {
     "name": "stdout",
     "output_type": "stream",
     "text": [
      "Loading mcd2 of SCAN dataset\n"
     ]
    },
    {
     "name": "stderr",
     "output_type": "stream",
     "text": [
      "WARNING:datasets.builder:Using custom data configuration default-ddaf263c1105fa1e\n",
      "WARNING:datasets.builder:Found cached dataset csv (/private/home/kaisersun/.cache/huggingface/datasets/csv/default-ddaf263c1105fa1e/0.0.0/6b34fb8fcf56f7c8ba51dc895bfa2bfbe43546f190a60fcf74bb5e8afdcc2317)\n"
     ]
    },
    {
     "data": {
      "application/vnd.jupyter.widget-view+json": {
       "model_id": "76d18257566c4c3d976b2a5b3102091f",
       "version_major": 2,
       "version_minor": 0
      },
      "text/plain": [
       "  0%|          | 0/3 [00:00<?, ?it/s]"
      ]
     },
     "metadata": {},
     "output_type": "display_data"
    },
    {
     "name": "stdout",
     "output_type": "stream",
     "text": [
      "Loading mcd3 of SCAN dataset\n"
     ]
    },
    {
     "name": "stderr",
     "output_type": "stream",
     "text": [
      "WARNING:datasets.builder:Using custom data configuration default-9f54db5c0730a94f\n",
      "WARNING:datasets.builder:Found cached dataset csv (/private/home/kaisersun/.cache/huggingface/datasets/csv/default-9f54db5c0730a94f/0.0.0/6b34fb8fcf56f7c8ba51dc895bfa2bfbe43546f190a60fcf74bb5e8afdcc2317)\n"
     ]
    },
    {
     "data": {
      "application/vnd.jupyter.widget-view+json": {
       "model_id": "8aab4773409546298a634bf02b3b224f",
       "version_major": 2,
       "version_minor": 0
      },
      "text/plain": [
       "  0%|          | 0/3 [00:00<?, ?it/s]"
      ]
     },
     "metadata": {},
     "output_type": "display_data"
    },
    {
     "name": "stdout",
     "output_type": "stream",
     "text": [
      "Loading addprim_jump of SCAN dataset\n"
     ]
    },
    {
     "name": "stderr",
     "output_type": "stream",
     "text": [
      "WARNING:datasets.builder:Using custom data configuration default-4e4e3e4e75b12ed0\n",
      "WARNING:datasets.builder:Found cached dataset csv (/private/home/kaisersun/.cache/huggingface/datasets/csv/default-4e4e3e4e75b12ed0/0.0.0/6b34fb8fcf56f7c8ba51dc895bfa2bfbe43546f190a60fcf74bb5e8afdcc2317)\n"
     ]
    },
    {
     "data": {
      "application/vnd.jupyter.widget-view+json": {
       "model_id": "560df20055ef491d9b77bf0b0dbab240",
       "version_major": 2,
       "version_minor": 0
      },
      "text/plain": [
       "  0%|          | 0/2 [00:00<?, ?it/s]"
      ]
     },
     "metadata": {},
     "output_type": "display_data"
    },
    {
     "name": "stdout",
     "output_type": "stream",
     "text": [
      "Loading addprim_turn_left of SCAN dataset\n"
     ]
    },
    {
     "name": "stderr",
     "output_type": "stream",
     "text": [
      "WARNING:datasets.builder:Using custom data configuration default-0e482af7cec70122\n",
      "WARNING:datasets.builder:Found cached dataset csv (/private/home/kaisersun/.cache/huggingface/datasets/csv/default-0e482af7cec70122/0.0.0/6b34fb8fcf56f7c8ba51dc895bfa2bfbe43546f190a60fcf74bb5e8afdcc2317)\n"
     ]
    },
    {
     "data": {
      "application/vnd.jupyter.widget-view+json": {
       "model_id": "9e8c9a70f0084623b98ea499eb85144d",
       "version_major": 2,
       "version_minor": 0
      },
      "text/plain": [
       "  0%|          | 0/2 [00:00<?, ?it/s]"
      ]
     },
     "metadata": {},
     "output_type": "display_data"
    },
    {
     "name": "stdout",
     "output_type": "stream",
     "text": [
      "Loading jump_random_cvcv of SCAN dataset\n"
     ]
    },
    {
     "name": "stderr",
     "output_type": "stream",
     "text": [
      "WARNING:datasets.builder:Using custom data configuration default-1b027dd46da96c96\n",
      "WARNING:datasets.builder:Found cached dataset csv (/private/home/kaisersun/.cache/huggingface/datasets/csv/default-1b027dd46da96c96/0.0.0/6b34fb8fcf56f7c8ba51dc895bfa2bfbe43546f190a60fcf74bb5e8afdcc2317)\n"
     ]
    },
    {
     "data": {
      "application/vnd.jupyter.widget-view+json": {
       "model_id": "c8c52365210847f5afd3f51a54c6253b",
       "version_major": 2,
       "version_minor": 0
      },
      "text/plain": [
       "  0%|          | 0/2 [00:00<?, ?it/s]"
      ]
     },
     "metadata": {},
     "output_type": "display_data"
    },
    {
     "name": "stdout",
     "output_type": "stream",
     "text": [
      "Loading jump_random_str of SCAN dataset\n"
     ]
    },
    {
     "name": "stderr",
     "output_type": "stream",
     "text": [
      "WARNING:datasets.builder:Using custom data configuration default-89b17412571a4a55\n",
      "WARNING:datasets.builder:Found cached dataset csv (/private/home/kaisersun/.cache/huggingface/datasets/csv/default-89b17412571a4a55/0.0.0/6b34fb8fcf56f7c8ba51dc895bfa2bfbe43546f190a60fcf74bb5e8afdcc2317)\n"
     ]
    },
    {
     "data": {
      "application/vnd.jupyter.widget-view+json": {
       "model_id": "202220d4ba0849078f0ee862c8aa07b5",
       "version_major": 2,
       "version_minor": 0
      },
      "text/plain": [
       "  0%|          | 0/2 [00:00<?, ?it/s]"
      ]
     },
     "metadata": {},
     "output_type": "display_data"
    },
    {
     "name": "stdout",
     "output_type": "stream",
     "text": [
      "Loading turn_left_random_cvcv of SCAN dataset\n"
     ]
    },
    {
     "name": "stderr",
     "output_type": "stream",
     "text": [
      "WARNING:datasets.builder:Using custom data configuration default-6e58a87d0b0e261d\n",
      "WARNING:datasets.builder:Found cached dataset csv (/private/home/kaisersun/.cache/huggingface/datasets/csv/default-6e58a87d0b0e261d/0.0.0/6b34fb8fcf56f7c8ba51dc895bfa2bfbe43546f190a60fcf74bb5e8afdcc2317)\n"
     ]
    },
    {
     "data": {
      "application/vnd.jupyter.widget-view+json": {
       "model_id": "dff290734a7941a88cdd417fc61fd30a",
       "version_major": 2,
       "version_minor": 0
      },
      "text/plain": [
       "  0%|          | 0/2 [00:00<?, ?it/s]"
      ]
     },
     "metadata": {},
     "output_type": "display_data"
    },
    {
     "name": "stdout",
     "output_type": "stream",
     "text": [
      "Loading turn_left_random_str of SCAN dataset\n"
     ]
    },
    {
     "name": "stderr",
     "output_type": "stream",
     "text": [
      "WARNING:datasets.builder:Using custom data configuration default-a1dc7b05e2bd86cf\n",
      "WARNING:datasets.builder:Found cached dataset csv (/private/home/kaisersun/.cache/huggingface/datasets/csv/default-a1dc7b05e2bd86cf/0.0.0/6b34fb8fcf56f7c8ba51dc895bfa2bfbe43546f190a60fcf74bb5e8afdcc2317)\n"
     ]
    },
    {
     "data": {
      "application/vnd.jupyter.widget-view+json": {
       "model_id": "43b06f0e962b4af4be823ab700c5ef49",
       "version_major": 2,
       "version_minor": 0
      },
      "text/plain": [
       "  0%|          | 0/2 [00:00<?, ?it/s]"
      ]
     },
     "metadata": {},
     "output_type": "display_data"
    },
    {
     "name": "stdout",
     "output_type": "stream",
     "text": [
      "Loading random of spider dataset\n"
     ]
    },
    {
     "name": "stderr",
     "output_type": "stream",
     "text": [
      "WARNING:datasets.builder:Using custom data configuration default-bbb58555481a2284\n",
      "WARNING:datasets.builder:Found cached dataset csv (/private/home/kaisersun/.cache/huggingface/datasets/csv/default-bbb58555481a2284/0.0.0/6b34fb8fcf56f7c8ba51dc895bfa2bfbe43546f190a60fcf74bb5e8afdcc2317)\n"
     ]
    },
    {
     "data": {
      "application/vnd.jupyter.widget-view+json": {
       "model_id": "cdfe531a24344e469b900a05d14d1c9d",
       "version_major": 2,
       "version_minor": 0
      },
      "text/plain": [
       "  0%|          | 0/2 [00:00<?, ?it/s]"
      ]
     },
     "metadata": {},
     "output_type": "display_data"
    },
    {
     "name": "stdout",
     "output_type": "stream",
     "text": [
      "Loading length of spider dataset\n"
     ]
    },
    {
     "name": "stderr",
     "output_type": "stream",
     "text": [
      "WARNING:datasets.builder:Using custom data configuration default-1d5e7060260c64cc\n",
      "WARNING:datasets.builder:Found cached dataset csv (/private/home/kaisersun/.cache/huggingface/datasets/csv/default-1d5e7060260c64cc/0.0.0/6b34fb8fcf56f7c8ba51dc895bfa2bfbe43546f190a60fcf74bb5e8afdcc2317)\n"
     ]
    },
    {
     "data": {
      "application/vnd.jupyter.widget-view+json": {
       "model_id": "ae008036734041ec91e71791fa38e59c",
       "version_major": 2,
       "version_minor": 0
      },
      "text/plain": [
       "  0%|          | 0/2 [00:00<?, ?it/s]"
      ]
     },
     "metadata": {},
     "output_type": "display_data"
    },
    {
     "name": "stdout",
     "output_type": "stream",
     "text": [
      "Loading template of spider dataset\n"
     ]
    },
    {
     "name": "stderr",
     "output_type": "stream",
     "text": [
      "WARNING:datasets.builder:Using custom data configuration default-c65cda54df9933c4\n",
      "WARNING:datasets.builder:Found cached dataset csv (/private/home/kaisersun/.cache/huggingface/datasets/csv/default-c65cda54df9933c4/0.0.0/6b34fb8fcf56f7c8ba51dc895bfa2bfbe43546f190a60fcf74bb5e8afdcc2317)\n"
     ]
    },
    {
     "data": {
      "application/vnd.jupyter.widget-view+json": {
       "model_id": "1f832c665c444eaba002c4494e6071b3",
       "version_major": 2,
       "version_minor": 0
      },
      "text/plain": [
       "  0%|          | 0/2 [00:00<?, ?it/s]"
      ]
     },
     "metadata": {},
     "output_type": "display_data"
    },
    {
     "name": "stdout",
     "output_type": "stream",
     "text": [
      "Loading tmcd of spider dataset\n"
     ]
    },
    {
     "name": "stderr",
     "output_type": "stream",
     "text": [
      "WARNING:datasets.builder:Using custom data configuration default-3497cec54847847a\n",
      "WARNING:datasets.builder:Found cached dataset csv (/private/home/kaisersun/.cache/huggingface/datasets/csv/default-3497cec54847847a/0.0.0/6b34fb8fcf56f7c8ba51dc895bfa2bfbe43546f190a60fcf74bb5e8afdcc2317)\n"
     ]
    },
    {
     "data": {
      "application/vnd.jupyter.widget-view+json": {
       "model_id": "a454dd2f03e14ccf9f40ffb25e363359",
       "version_major": 2,
       "version_minor": 0
      },
      "text/plain": [
       "  0%|          | 0/2 [00:00<?, ?it/s]"
      ]
     },
     "metadata": {},
     "output_type": "display_data"
    },
    {
     "name": "stdout",
     "output_type": "stream",
     "text": [
      "+----------+-----------------------+--------------------+-------------------+--------------------+------------------+--------------------+\n",
      "| Dataset  |         Split         |       train        |     validation    |        test        |       gen        |      Overall       |\n",
      "+----------+-----------------------+--------------------+-------------------+--------------------+------------------+--------------------+\n",
      "|   COGS   |         no_mod        | 6.487766507969365  |        6.59       | 6.562333333333333  | 8.84252380952381 | 7.4648030495552735 |\n",
      "|   COGS   |      random_cvcv      | 6.487766507969365  |        6.59       | 6.562333333333333  | 8.84252380952381 | 7.4648030495552735 |\n",
      "|   COGS   |       random_str      | 6.487766507969365  |        6.59       | 6.562333333333333  | 8.84252380952381 | 7.4648030495552735 |\n",
      "|   COGS   |         length        | 4.682190760059613  |         -         | 10.37497395724822  |        -         | 7.519302253140899  |\n",
      "| geoquery |        standard       | 7.381666666666667  |         -         | 7.546428571428572  |        -         | 7.4340909090909095 |\n",
      "| geoquery |  standard_random_cvcv | 7.381666666666667  |         -         | 7.546428571428572  |        -         | 7.4340909090909095 |\n",
      "| geoquery |  standard_random_str  | 7.381666666666667  |         -         | 7.546428571428572  |        -         | 7.4340909090909095 |\n",
      "| geoquery |        template       | 7.498866213151928  |         -         | 7.3690205011389525 |        -         | 7.4340909090909095 |\n",
      "| geoquery |          tmcd         | 7.163636363636364  |         -         | 7.704545454545454  |        -         | 7.4340909090909095 |\n",
      "|   SCAN   |         simple        | 7.2574725011956005 |         -         | 7.241750358680058  |        -         | 7.254328072692491  |\n",
      "|   SCAN   |         length        | 7.034726309593879  |         -         | 8.206122448979592  |        -         | 7.254328072692491  |\n",
      "|   SCAN   |          mcd1         | 7.044710101613867  |  7.72822966507177 |  7.72822966507177  |        -         | 7.181348637015782  |\n",
      "|   SCAN   |          mcd2         | 6.681052002390914  | 8.005741626794258 | 8.005741626794258  |        -         | 6.945863223338116  |\n",
      "|   SCAN   |          mcd3         | 7.107471607890018  |  7.56267942583732 |  7.56267942583732  |        -         | 7.198469631755141  |\n",
      "|   SCAN   |      addprim_jump     | 6.643762781186094  |         -         | 7.2268362315079155 |        -         | 6.8445656060064355 |\n",
      "|   SCAN   |   addprim_turn_left   | 6.7539515760621285 |         -         | 6.804635761589404  |        -         | 6.756602303229717  |\n",
      "|   SCAN   |    jump_random_cvcv   | 6.643762781186094  |         -         | 7.2268362315079155 |        -         | 6.8445656060064355 |\n",
      "|   SCAN   |    jump_random_str    | 6.643762781186094  |         -         | 7.2268362315079155 |        -         | 6.8445656060064355 |\n",
      "|   SCAN   | turn_left_random_cvcv | 6.7539515760621285 |         -         | 6.804635761589404  |        -         | 6.756602303229717  |\n",
      "|   SCAN   |  turn_left_random_str | 6.7539515760621285 |         -         | 6.804635761589404  |        -         | 6.756602303229717  |\n",
      "|  spider  |         random        | 60.40889701401584  |         -         | 60.50274223034735  |        -         | 60.43235831809872  |\n",
      "|  spider  |         length        | 57.02132845825716  |         -         |  70.6654478976234  |        -         | 60.43235831809872  |\n",
      "|  spider  |        template       | 61.173475609756096 |         -         | 58.214416058394164 |        -         | 60.43235831809872  |\n",
      "|  spider  |          tmcd         | 63.166666666666664 |         -         | 52.22943327239488  |        -         | 60.43235831809872  |\n",
      "+----------+-----------------------+--------------------+-------------------+--------------------+------------------+--------------------+\n"
     ]
    }
   ],
   "source": [
    "print(\"Computing average length of each dataset\")\n",
    "build_table_for_all_datasets('raw_avg_length', sub_datatype='input')"
   ]
  },
  {
   "cell_type": "code",
   "execution_count": 7,
   "metadata": {},
   "outputs": [
    {
     "name": "stdout",
     "output_type": "stream",
     "text": [
      "Computing average length of each dataset after tokenization\n",
      "Loading no_mod of COGS dataset\n"
     ]
    },
    {
     "name": "stderr",
     "output_type": "stream",
     "text": [
      "WARNING:datasets.builder:Using custom data configuration default-18f92e37bf0a27f6\n",
      "WARNING:datasets.builder:Found cached dataset csv (/private/home/kaisersun/.cache/huggingface/datasets/csv/default-18f92e37bf0a27f6/0.0.0/6b34fb8fcf56f7c8ba51dc895bfa2bfbe43546f190a60fcf74bb5e8afdcc2317)\n"
     ]
    },
    {
     "data": {
      "application/vnd.jupyter.widget-view+json": {
       "model_id": "cd43b450d6a94a7bb0bf1a92ed8ac28c",
       "version_major": 2,
       "version_minor": 0
      },
      "text/plain": [
       "  0%|          | 0/4 [00:00<?, ?it/s]"
      ]
     },
     "metadata": {},
     "output_type": "display_data"
    },
    {
     "name": "stdout",
     "output_type": "stream",
     "text": [
      "Loading random_cvcv of COGS dataset\n"
     ]
    },
    {
     "name": "stderr",
     "output_type": "stream",
     "text": [
      "WARNING:datasets.builder:Using custom data configuration default-56c0fbf39aaf3900\n",
      "WARNING:datasets.builder:Found cached dataset csv (/private/home/kaisersun/.cache/huggingface/datasets/csv/default-56c0fbf39aaf3900/0.0.0/6b34fb8fcf56f7c8ba51dc895bfa2bfbe43546f190a60fcf74bb5e8afdcc2317)\n"
     ]
    },
    {
     "data": {
      "application/vnd.jupyter.widget-view+json": {
       "model_id": "1ea7e816ee1f45e0b6136f99af105660",
       "version_major": 2,
       "version_minor": 0
      },
      "text/plain": [
       "  0%|          | 0/4 [00:00<?, ?it/s]"
      ]
     },
     "metadata": {},
     "output_type": "display_data"
    },
    {
     "name": "stdout",
     "output_type": "stream",
     "text": [
      "Loading random_str of COGS dataset\n"
     ]
    },
    {
     "name": "stderr",
     "output_type": "stream",
     "text": [
      "WARNING:datasets.builder:Using custom data configuration default-9254f464bf5c86d1\n",
      "WARNING:datasets.builder:Found cached dataset csv (/private/home/kaisersun/.cache/huggingface/datasets/csv/default-9254f464bf5c86d1/0.0.0/6b34fb8fcf56f7c8ba51dc895bfa2bfbe43546f190a60fcf74bb5e8afdcc2317)\n"
     ]
    },
    {
     "data": {
      "application/vnd.jupyter.widget-view+json": {
       "model_id": "52de225d663e4ec38504f2532f3d3d35",
       "version_major": 2,
       "version_minor": 0
      },
      "text/plain": [
       "  0%|          | 0/4 [00:00<?, ?it/s]"
      ]
     },
     "metadata": {},
     "output_type": "display_data"
    },
    {
     "name": "stdout",
     "output_type": "stream",
     "text": [
      "Loading length of COGS dataset\n"
     ]
    },
    {
     "name": "stderr",
     "output_type": "stream",
     "text": [
      "WARNING:datasets.builder:Using custom data configuration default-0d87e8178c318709\n",
      "WARNING:datasets.builder:Found cached dataset csv (/private/home/kaisersun/.cache/huggingface/datasets/csv/default-0d87e8178c318709/0.0.0/6b34fb8fcf56f7c8ba51dc895bfa2bfbe43546f190a60fcf74bb5e8afdcc2317)\n"
     ]
    },
    {
     "data": {
      "application/vnd.jupyter.widget-view+json": {
       "model_id": "c2cb7c6538554d64a8a62effe499896f",
       "version_major": 2,
       "version_minor": 0
      },
      "text/plain": [
       "  0%|          | 0/2 [00:00<?, ?it/s]"
      ]
     },
     "metadata": {},
     "output_type": "display_data"
    },
    {
     "name": "stdout",
     "output_type": "stream",
     "text": [
      "Loading standard of geoquery dataset\n"
     ]
    },
    {
     "name": "stderr",
     "output_type": "stream",
     "text": [
      "WARNING:datasets.builder:Using custom data configuration default-37f1fbd974a89e3d\n",
      "WARNING:datasets.builder:Found cached dataset csv (/private/home/kaisersun/.cache/huggingface/datasets/csv/default-37f1fbd974a89e3d/0.0.0/6b34fb8fcf56f7c8ba51dc895bfa2bfbe43546f190a60fcf74bb5e8afdcc2317)\n"
     ]
    },
    {
     "data": {
      "application/vnd.jupyter.widget-view+json": {
       "model_id": "25568cab681a45e6b824be11ea3e352b",
       "version_major": 2,
       "version_minor": 0
      },
      "text/plain": [
       "  0%|          | 0/2 [00:00<?, ?it/s]"
      ]
     },
     "metadata": {},
     "output_type": "display_data"
    },
    {
     "name": "stdout",
     "output_type": "stream",
     "text": [
      "Loading standard_random_cvcv of geoquery dataset\n"
     ]
    },
    {
     "name": "stderr",
     "output_type": "stream",
     "text": [
      "WARNING:datasets.builder:Using custom data configuration default-8561e2c0aa983743\n",
      "WARNING:datasets.builder:Found cached dataset csv (/private/home/kaisersun/.cache/huggingface/datasets/csv/default-8561e2c0aa983743/0.0.0/6b34fb8fcf56f7c8ba51dc895bfa2bfbe43546f190a60fcf74bb5e8afdcc2317)\n"
     ]
    },
    {
     "data": {
      "application/vnd.jupyter.widget-view+json": {
       "model_id": "de5e70d84ed044d2ae87672ea2183ac3",
       "version_major": 2,
       "version_minor": 0
      },
      "text/plain": [
       "  0%|          | 0/2 [00:00<?, ?it/s]"
      ]
     },
     "metadata": {},
     "output_type": "display_data"
    },
    {
     "name": "stdout",
     "output_type": "stream",
     "text": [
      "Loading standard_random_str of geoquery dataset\n"
     ]
    },
    {
     "name": "stderr",
     "output_type": "stream",
     "text": [
      "WARNING:datasets.builder:Using custom data configuration default-a90f4a1d09c5531a\n",
      "WARNING:datasets.builder:Found cached dataset csv (/private/home/kaisersun/.cache/huggingface/datasets/csv/default-a90f4a1d09c5531a/0.0.0/6b34fb8fcf56f7c8ba51dc895bfa2bfbe43546f190a60fcf74bb5e8afdcc2317)\n"
     ]
    },
    {
     "data": {
      "application/vnd.jupyter.widget-view+json": {
       "model_id": "94417f9f6e3f435c87e295f832a8c644",
       "version_major": 2,
       "version_minor": 0
      },
      "text/plain": [
       "  0%|          | 0/2 [00:00<?, ?it/s]"
      ]
     },
     "metadata": {},
     "output_type": "display_data"
    },
    {
     "name": "stdout",
     "output_type": "stream",
     "text": [
      "Loading template of geoquery dataset\n"
     ]
    },
    {
     "name": "stderr",
     "output_type": "stream",
     "text": [
      "WARNING:datasets.builder:Using custom data configuration default-87c5d6366797d405\n",
      "WARNING:datasets.builder:Found cached dataset csv (/private/home/kaisersun/.cache/huggingface/datasets/csv/default-87c5d6366797d405/0.0.0/6b34fb8fcf56f7c8ba51dc895bfa2bfbe43546f190a60fcf74bb5e8afdcc2317)\n"
     ]
    },
    {
     "data": {
      "application/vnd.jupyter.widget-view+json": {
       "model_id": "f46d938e63f14a8b9460ef1a6b7623e0",
       "version_major": 2,
       "version_minor": 0
      },
      "text/plain": [
       "  0%|          | 0/2 [00:00<?, ?it/s]"
      ]
     },
     "metadata": {},
     "output_type": "display_data"
    },
    {
     "name": "stdout",
     "output_type": "stream",
     "text": [
      "Loading tmcd of geoquery dataset\n"
     ]
    },
    {
     "name": "stderr",
     "output_type": "stream",
     "text": [
      "WARNING:datasets.builder:Using custom data configuration default-3e45cea845a8949e\n",
      "WARNING:datasets.builder:Found cached dataset csv (/private/home/kaisersun/.cache/huggingface/datasets/csv/default-3e45cea845a8949e/0.0.0/6b34fb8fcf56f7c8ba51dc895bfa2bfbe43546f190a60fcf74bb5e8afdcc2317)\n"
     ]
    },
    {
     "data": {
      "application/vnd.jupyter.widget-view+json": {
       "model_id": "9e1d65bc6a714cdd88d42f3dcb4977fc",
       "version_major": 2,
       "version_minor": 0
      },
      "text/plain": [
       "  0%|          | 0/2 [00:00<?, ?it/s]"
      ]
     },
     "metadata": {},
     "output_type": "display_data"
    },
    {
     "name": "stdout",
     "output_type": "stream",
     "text": [
      "Loading simple of SCAN dataset\n"
     ]
    },
    {
     "name": "stderr",
     "output_type": "stream",
     "text": [
      "WARNING:datasets.builder:Using custom data configuration default-d4e1d7e136305ae8\n",
      "WARNING:datasets.builder:Found cached dataset csv (/private/home/kaisersun/.cache/huggingface/datasets/csv/default-d4e1d7e136305ae8/0.0.0/6b34fb8fcf56f7c8ba51dc895bfa2bfbe43546f190a60fcf74bb5e8afdcc2317)\n"
     ]
    },
    {
     "data": {
      "application/vnd.jupyter.widget-view+json": {
       "model_id": "5a45eae9cc15497f98c250acec9675c8",
       "version_major": 2,
       "version_minor": 0
      },
      "text/plain": [
       "  0%|          | 0/2 [00:00<?, ?it/s]"
      ]
     },
     "metadata": {},
     "output_type": "display_data"
    },
    {
     "name": "stdout",
     "output_type": "stream",
     "text": [
      "Loading length of SCAN dataset\n"
     ]
    },
    {
     "name": "stderr",
     "output_type": "stream",
     "text": [
      "WARNING:datasets.builder:Using custom data configuration default-9023803587722f6c\n",
      "WARNING:datasets.builder:Found cached dataset csv (/private/home/kaisersun/.cache/huggingface/datasets/csv/default-9023803587722f6c/0.0.0/6b34fb8fcf56f7c8ba51dc895bfa2bfbe43546f190a60fcf74bb5e8afdcc2317)\n"
     ]
    },
    {
     "data": {
      "application/vnd.jupyter.widget-view+json": {
       "model_id": "32095a2d9ade43a8a289a53717034ae9",
       "version_major": 2,
       "version_minor": 0
      },
      "text/plain": [
       "  0%|          | 0/2 [00:00<?, ?it/s]"
      ]
     },
     "metadata": {},
     "output_type": "display_data"
    },
    {
     "name": "stdout",
     "output_type": "stream",
     "text": [
      "Loading mcd1 of SCAN dataset\n"
     ]
    },
    {
     "name": "stderr",
     "output_type": "stream",
     "text": [
      "WARNING:datasets.builder:Using custom data configuration default-9aa18a76555e9263\n",
      "WARNING:datasets.builder:Found cached dataset csv (/private/home/kaisersun/.cache/huggingface/datasets/csv/default-9aa18a76555e9263/0.0.0/6b34fb8fcf56f7c8ba51dc895bfa2bfbe43546f190a60fcf74bb5e8afdcc2317)\n"
     ]
    },
    {
     "data": {
      "application/vnd.jupyter.widget-view+json": {
       "model_id": "e7f94534439e4f2b8930da2ae010cb58",
       "version_major": 2,
       "version_minor": 0
      },
      "text/plain": [
       "  0%|          | 0/3 [00:00<?, ?it/s]"
      ]
     },
     "metadata": {},
     "output_type": "display_data"
    },
    {
     "name": "stdout",
     "output_type": "stream",
     "text": [
      "Loading mcd2 of SCAN dataset\n"
     ]
    },
    {
     "name": "stderr",
     "output_type": "stream",
     "text": [
      "WARNING:datasets.builder:Using custom data configuration default-ddaf263c1105fa1e\n",
      "WARNING:datasets.builder:Found cached dataset csv (/private/home/kaisersun/.cache/huggingface/datasets/csv/default-ddaf263c1105fa1e/0.0.0/6b34fb8fcf56f7c8ba51dc895bfa2bfbe43546f190a60fcf74bb5e8afdcc2317)\n"
     ]
    },
    {
     "data": {
      "application/vnd.jupyter.widget-view+json": {
       "model_id": "27891d1835ac45afa47b1b51f7805a12",
       "version_major": 2,
       "version_minor": 0
      },
      "text/plain": [
       "  0%|          | 0/3 [00:00<?, ?it/s]"
      ]
     },
     "metadata": {},
     "output_type": "display_data"
    },
    {
     "name": "stdout",
     "output_type": "stream",
     "text": [
      "Loading mcd3 of SCAN dataset\n"
     ]
    },
    {
     "name": "stderr",
     "output_type": "stream",
     "text": [
      "WARNING:datasets.builder:Using custom data configuration default-9f54db5c0730a94f\n",
      "WARNING:datasets.builder:Found cached dataset csv (/private/home/kaisersun/.cache/huggingface/datasets/csv/default-9f54db5c0730a94f/0.0.0/6b34fb8fcf56f7c8ba51dc895bfa2bfbe43546f190a60fcf74bb5e8afdcc2317)\n"
     ]
    },
    {
     "data": {
      "application/vnd.jupyter.widget-view+json": {
       "model_id": "6646670ac39a4123a19b7fb5732d4a33",
       "version_major": 2,
       "version_minor": 0
      },
      "text/plain": [
       "  0%|          | 0/3 [00:00<?, ?it/s]"
      ]
     },
     "metadata": {},
     "output_type": "display_data"
    },
    {
     "name": "stdout",
     "output_type": "stream",
     "text": [
      "Loading addprim_jump of SCAN dataset\n"
     ]
    },
    {
     "name": "stderr",
     "output_type": "stream",
     "text": [
      "WARNING:datasets.builder:Using custom data configuration default-4e4e3e4e75b12ed0\n",
      "WARNING:datasets.builder:Found cached dataset csv (/private/home/kaisersun/.cache/huggingface/datasets/csv/default-4e4e3e4e75b12ed0/0.0.0/6b34fb8fcf56f7c8ba51dc895bfa2bfbe43546f190a60fcf74bb5e8afdcc2317)\n"
     ]
    },
    {
     "data": {
      "application/vnd.jupyter.widget-view+json": {
       "model_id": "46db9844e1044e198c0840aad430a461",
       "version_major": 2,
       "version_minor": 0
      },
      "text/plain": [
       "  0%|          | 0/2 [00:00<?, ?it/s]"
      ]
     },
     "metadata": {},
     "output_type": "display_data"
    },
    {
     "name": "stdout",
     "output_type": "stream",
     "text": [
      "Loading addprim_turn_left of SCAN dataset\n"
     ]
    },
    {
     "name": "stderr",
     "output_type": "stream",
     "text": [
      "WARNING:datasets.builder:Using custom data configuration default-0e482af7cec70122\n",
      "WARNING:datasets.builder:Found cached dataset csv (/private/home/kaisersun/.cache/huggingface/datasets/csv/default-0e482af7cec70122/0.0.0/6b34fb8fcf56f7c8ba51dc895bfa2bfbe43546f190a60fcf74bb5e8afdcc2317)\n"
     ]
    },
    {
     "data": {
      "application/vnd.jupyter.widget-view+json": {
       "model_id": "0722795c94f8423f80d334a13ee6dd91",
       "version_major": 2,
       "version_minor": 0
      },
      "text/plain": [
       "  0%|          | 0/2 [00:00<?, ?it/s]"
      ]
     },
     "metadata": {},
     "output_type": "display_data"
    },
    {
     "name": "stdout",
     "output_type": "stream",
     "text": [
      "Loading jump_random_cvcv of SCAN dataset\n"
     ]
    },
    {
     "name": "stderr",
     "output_type": "stream",
     "text": [
      "WARNING:datasets.builder:Using custom data configuration default-1b027dd46da96c96\n",
      "WARNING:datasets.builder:Found cached dataset csv (/private/home/kaisersun/.cache/huggingface/datasets/csv/default-1b027dd46da96c96/0.0.0/6b34fb8fcf56f7c8ba51dc895bfa2bfbe43546f190a60fcf74bb5e8afdcc2317)\n"
     ]
    },
    {
     "data": {
      "application/vnd.jupyter.widget-view+json": {
       "model_id": "560576bc871f4151af1d2e10e1fb311e",
       "version_major": 2,
       "version_minor": 0
      },
      "text/plain": [
       "  0%|          | 0/2 [00:00<?, ?it/s]"
      ]
     },
     "metadata": {},
     "output_type": "display_data"
    },
    {
     "name": "stdout",
     "output_type": "stream",
     "text": [
      "Loading jump_random_str of SCAN dataset\n"
     ]
    },
    {
     "name": "stderr",
     "output_type": "stream",
     "text": [
      "WARNING:datasets.builder:Using custom data configuration default-89b17412571a4a55\n",
      "WARNING:datasets.builder:Found cached dataset csv (/private/home/kaisersun/.cache/huggingface/datasets/csv/default-89b17412571a4a55/0.0.0/6b34fb8fcf56f7c8ba51dc895bfa2bfbe43546f190a60fcf74bb5e8afdcc2317)\n"
     ]
    },
    {
     "data": {
      "application/vnd.jupyter.widget-view+json": {
       "model_id": "202feee06e9a4ee9a282976af2ec9e87",
       "version_major": 2,
       "version_minor": 0
      },
      "text/plain": [
       "  0%|          | 0/2 [00:00<?, ?it/s]"
      ]
     },
     "metadata": {},
     "output_type": "display_data"
    },
    {
     "name": "stdout",
     "output_type": "stream",
     "text": [
      "Loading turn_left_random_cvcv of SCAN dataset\n"
     ]
    },
    {
     "name": "stderr",
     "output_type": "stream",
     "text": [
      "WARNING:datasets.builder:Using custom data configuration default-6e58a87d0b0e261d\n",
      "WARNING:datasets.builder:Found cached dataset csv (/private/home/kaisersun/.cache/huggingface/datasets/csv/default-6e58a87d0b0e261d/0.0.0/6b34fb8fcf56f7c8ba51dc895bfa2bfbe43546f190a60fcf74bb5e8afdcc2317)\n"
     ]
    },
    {
     "data": {
      "application/vnd.jupyter.widget-view+json": {
       "model_id": "7c660057e74e4e18ae57a40a057bc379",
       "version_major": 2,
       "version_minor": 0
      },
      "text/plain": [
       "  0%|          | 0/2 [00:00<?, ?it/s]"
      ]
     },
     "metadata": {},
     "output_type": "display_data"
    },
    {
     "name": "stdout",
     "output_type": "stream",
     "text": [
      "Loading turn_left_random_str of SCAN dataset\n"
     ]
    },
    {
     "name": "stderr",
     "output_type": "stream",
     "text": [
      "WARNING:datasets.builder:Using custom data configuration default-a1dc7b05e2bd86cf\n",
      "WARNING:datasets.builder:Found cached dataset csv (/private/home/kaisersun/.cache/huggingface/datasets/csv/default-a1dc7b05e2bd86cf/0.0.0/6b34fb8fcf56f7c8ba51dc895bfa2bfbe43546f190a60fcf74bb5e8afdcc2317)\n"
     ]
    },
    {
     "data": {
      "application/vnd.jupyter.widget-view+json": {
       "model_id": "9ad8783c1550415da6f2be27311b426f",
       "version_major": 2,
       "version_minor": 0
      },
      "text/plain": [
       "  0%|          | 0/2 [00:00<?, ?it/s]"
      ]
     },
     "metadata": {},
     "output_type": "display_data"
    },
    {
     "name": "stdout",
     "output_type": "stream",
     "text": [
      "Loading random of spider dataset\n"
     ]
    },
    {
     "name": "stderr",
     "output_type": "stream",
     "text": [
      "WARNING:datasets.builder:Using custom data configuration default-bbb58555481a2284\n",
      "WARNING:datasets.builder:Found cached dataset csv (/private/home/kaisersun/.cache/huggingface/datasets/csv/default-bbb58555481a2284/0.0.0/6b34fb8fcf56f7c8ba51dc895bfa2bfbe43546f190a60fcf74bb5e8afdcc2317)\n"
     ]
    },
    {
     "data": {
      "application/vnd.jupyter.widget-view+json": {
       "model_id": "1c339119529147b2934025a6141b826a",
       "version_major": 2,
       "version_minor": 0
      },
      "text/plain": [
       "  0%|          | 0/2 [00:00<?, ?it/s]"
      ]
     },
     "metadata": {},
     "output_type": "display_data"
    },
    {
     "name": "stdout",
     "output_type": "stream",
     "text": [
      "Loading length of spider dataset\n"
     ]
    },
    {
     "name": "stderr",
     "output_type": "stream",
     "text": [
      "WARNING:datasets.builder:Using custom data configuration default-1d5e7060260c64cc\n",
      "WARNING:datasets.builder:Found cached dataset csv (/private/home/kaisersun/.cache/huggingface/datasets/csv/default-1d5e7060260c64cc/0.0.0/6b34fb8fcf56f7c8ba51dc895bfa2bfbe43546f190a60fcf74bb5e8afdcc2317)\n"
     ]
    },
    {
     "data": {
      "application/vnd.jupyter.widget-view+json": {
       "model_id": "c4d44e5015984e34afbd0c21fb6c404e",
       "version_major": 2,
       "version_minor": 0
      },
      "text/plain": [
       "  0%|          | 0/2 [00:00<?, ?it/s]"
      ]
     },
     "metadata": {},
     "output_type": "display_data"
    },
    {
     "name": "stdout",
     "output_type": "stream",
     "text": [
      "Loading template of spider dataset\n"
     ]
    },
    {
     "name": "stderr",
     "output_type": "stream",
     "text": [
      "WARNING:datasets.builder:Using custom data configuration default-c65cda54df9933c4\n",
      "WARNING:datasets.builder:Found cached dataset csv (/private/home/kaisersun/.cache/huggingface/datasets/csv/default-c65cda54df9933c4/0.0.0/6b34fb8fcf56f7c8ba51dc895bfa2bfbe43546f190a60fcf74bb5e8afdcc2317)\n"
     ]
    },
    {
     "data": {
      "application/vnd.jupyter.widget-view+json": {
       "model_id": "4028aa137a644be383a26c8bd564625b",
       "version_major": 2,
       "version_minor": 0
      },
      "text/plain": [
       "  0%|          | 0/2 [00:00<?, ?it/s]"
      ]
     },
     "metadata": {},
     "output_type": "display_data"
    },
    {
     "name": "stdout",
     "output_type": "stream",
     "text": [
      "Loading tmcd of spider dataset\n"
     ]
    },
    {
     "name": "stderr",
     "output_type": "stream",
     "text": [
      "WARNING:datasets.builder:Using custom data configuration default-3497cec54847847a\n",
      "WARNING:datasets.builder:Found cached dataset csv (/private/home/kaisersun/.cache/huggingface/datasets/csv/default-3497cec54847847a/0.0.0/6b34fb8fcf56f7c8ba51dc895bfa2bfbe43546f190a60fcf74bb5e8afdcc2317)\n"
     ]
    },
    {
     "data": {
      "application/vnd.jupyter.widget-view+json": {
       "model_id": "5225dba604bd43c4a03092b62e2fb43d",
       "version_major": 2,
       "version_minor": 0
      },
      "text/plain": [
       "  0%|          | 0/2 [00:00<?, ?it/s]"
      ]
     },
     "metadata": {},
     "output_type": "display_data"
    },
    {
     "name": "stdout",
     "output_type": "stream",
     "text": [
      "+----------+-----------------------+--------------------+-------------------+--------------------+------------------+--------------------+\n",
      "| Dataset  |         Split         |       train        |     validation    |        test        |       gen        |      Overall       |\n",
      "+----------+-----------------------+--------------------+-------------------+--------------------+------------------+--------------------+\n",
      "|   COGS   |         no_mod        | 6.487766507969365  |        6.59       | 6.562333333333333  | 8.84252380952381 | 7.4648030495552735 |\n",
      "|   COGS   |      random_cvcv      | 6.487766507969365  |        6.59       | 6.562333333333333  | 8.84252380952381 | 7.4648030495552735 |\n",
      "|   COGS   |       random_str      | 6.487766507969365  |        6.59       | 6.562333333333333  | 8.84252380952381 | 7.4648030495552735 |\n",
      "|   COGS   |         length        | 4.682190760059613  |         -         | 10.37497395724822  |        -         | 7.519302253140899  |\n",
      "| geoquery |        standard       | 7.381666666666667  |         -         | 7.546428571428572  |        -         | 7.4340909090909095 |\n",
      "| geoquery |  standard_random_cvcv | 7.381666666666667  |         -         | 7.546428571428572  |        -         | 7.4340909090909095 |\n",
      "| geoquery |  standard_random_str  | 7.381666666666667  |         -         | 7.546428571428572  |        -         | 7.4340909090909095 |\n",
      "| geoquery |        template       | 7.498866213151928  |         -         | 7.3690205011389525 |        -         | 7.4340909090909095 |\n",
      "| geoquery |          tmcd         | 7.163636363636364  |         -         | 7.704545454545454  |        -         | 7.4340909090909095 |\n",
      "|   SCAN   |         simple        | 7.2574725011956005 |         -         | 7.241750358680058  |        -         | 7.254328072692491  |\n",
      "|   SCAN   |         length        | 7.034726309593879  |         -         | 8.206122448979592  |        -         | 7.254328072692491  |\n",
      "|   SCAN   |          mcd1         | 7.044710101613867  |  7.72822966507177 |  7.72822966507177  |        -         | 7.181348637015782  |\n",
      "|   SCAN   |          mcd2         | 6.681052002390914  | 8.005741626794258 | 8.005741626794258  |        -         | 6.945863223338116  |\n",
      "|   SCAN   |          mcd3         | 7.107471607890018  |  7.56267942583732 |  7.56267942583732  |        -         | 7.198469631755141  |\n",
      "|   SCAN   |      addprim_jump     | 6.643762781186094  |         -         | 7.2268362315079155 |        -         | 6.8445656060064355 |\n",
      "|   SCAN   |   addprim_turn_left   | 6.7539515760621285 |         -         | 6.804635761589404  |        -         | 6.756602303229717  |\n",
      "|   SCAN   |    jump_random_cvcv   | 6.643762781186094  |         -         | 7.2268362315079155 |        -         | 6.8445656060064355 |\n",
      "|   SCAN   |    jump_random_str    | 6.643762781186094  |         -         | 7.2268362315079155 |        -         | 6.8445656060064355 |\n",
      "|   SCAN   | turn_left_random_cvcv | 6.7539515760621285 |         -         | 6.804635761589404  |        -         | 6.756602303229717  |\n",
      "|   SCAN   |  turn_left_random_str | 6.7539515760621285 |         -         | 6.804635761589404  |        -         | 6.756602303229717  |\n",
      "|  spider  |         random        | 60.40889701401584  |         -         | 60.50274223034735  |        -         | 60.43235831809872  |\n",
      "|  spider  |         length        | 57.02132845825716  |         -         |  70.6654478976234  |        -         | 60.43235831809872  |\n",
      "|  spider  |        template       | 61.173475609756096 |         -         | 58.214416058394164 |        -         | 60.43235831809872  |\n",
      "|  spider  |          tmcd         | 63.166666666666664 |         -         | 52.22943327239488  |        -         | 60.43235831809872  |\n",
      "+----------+-----------------------+--------------------+-------------------+--------------------+------------------+--------------------+\n"
     ]
    }
   ],
   "source": [
    "print(\"Computing average length of each dataset after tokenization\")\n",
    "build_table_for_all_datasets('raw_avg_length', sub_datatype='input', model_name='t5-base')"
   ]
  },
  {
   "cell_type": "code",
   "execution_count": null,
   "metadata": {},
   "outputs": [],
   "source": [
    "res = compute_sample_overlap_all_datasets(lex_type=\"Lev\")"
   ]
  },
  {
   "attachments": {},
   "cell_type": "markdown",
   "metadata": {},
   "source": [
    "### Plot the training curve\n",
    "\n",
    "Plot the training curve of HF models. This section assumes access to `trained_models/` in BASE_DIR. Each model dir should include a `trainer_state.json`."
   ]
  },
  {
   "cell_type": "code",
   "execution_count": 9,
   "metadata": {},
   "outputs": [],
   "source": [
    "from analysis_utils import load_training_curve_info"
   ]
  },
  {
   "cell_type": "code",
   "execution_count": 10,
   "metadata": {},
   "outputs": [],
   "source": [
    "# Compute Training Curve Info\n",
    "dataset_name = 'geoquery'\n",
    "split = 'standard'\n",
    "model_name = 't5-base'\n",
    "dataset_names, splits_mapping = list_hardcode_datasets_and_their_splits()\n",
    "\n",
    "steps, ems, best_em = load_training_curve_info(model_name, dataset_name, split)"
   ]
  },
  {
   "cell_type": "code",
   "execution_count": 10,
   "metadata": {},
   "outputs": [],
   "source": [
    "def plot_training_curve(steps, ems, best_em=-1):\n",
    "    fig, ax = plt.subplots(nrows=1, ncols=1)\n",
    "    ax.plot(steps, ems, label=model_name)\n",
    "    if best_em != -1:\n",
    "        ax.plot([steps[0], steps[-1]], [best_em, best_em], label=\"Best EM\")\n",
    "\n",
    "    ax.set_xlabel('Steps')\n",
    "    ax.set_ylabel('EM')"
   ]
  },
  {
   "cell_type": "code",
   "execution_count": 11,
   "metadata": {},
   "outputs": [
    {
     "data": {
      "image/png": "[encoded data removed]",
      "text/plain": [
       "<Figure size 3600x2400 with 1 Axes>"
      ]
     },
     "metadata": {
      "needs_background": "light"
     },
     "output_type": "display_data"
    }
   ],
   "source": [
    "plot_training_curve(steps, ems, best_em)"
   ]
  },
  {
   "attachments": {},
   "cell_type": "markdown",
   "metadata": {},
   "source": [
    "#### Plot training curve for all splits"
   ]
  },
  {
   "cell_type": "code",
   "execution_count": 5,
   "metadata": {},
   "outputs": [
    {
     "data": {
      "text/plain": [
       "<module 'analysis_utils' from '/private/home/kaisersun/CompGenComparision/utils/analysis_utils.py'>"
      ]
     },
     "execution_count": 5,
     "metadata": {},
     "output_type": "execute_result"
    }
   ],
   "source": [
    "import importlib\n",
    "import analysis_utils\n",
    "importlib.reload(analysis_utils)"
   ]
  },
  {
   "cell_type": "code",
   "execution_count": 6,
   "metadata": {},
   "outputs": [],
   "source": [
    "colors = ['#D81B60', '#999999', '#7570B3', '#E66100', '#7570B3', '#E66100']"
   ]
  },
  {
   "cell_type": "code",
   "execution_count": 25,
   "metadata": {},
   "outputs": [
    {
     "data": {
      "image/png": "[encoded data removed]",
      "text/plain": [
       "<Figure size 3600x2400 with 1 Axes>"
      ]
     },
     "metadata": {
      "needs_background": "light"
     },
     "output_type": "display_data"
    }
   ],
   "source": [
    "# Plot training curve for all splits\n",
    "dataset_name = 'geoquery'\n",
    "fig, ax = plt.subplots(nrows=1, ncols=1)\n",
    "splits = []\n",
    "for idx, split in enumerate(splits_mapping[dataset_name]):\n",
    "    # steps, ems, best_em = analysis_utils.load_training_curve_info(model_name, dataset_name, split, checkpoint=None)\n",
    "    steps, ems, best_em = analysis_utils.load_avg_training_curve_info(model_name, dataset_name, split, checkpoint=None)\n",
    "    # if split == 'standard':\n",
    "    #     steps = steps[:638]\n",
    "    #     ems = ems[:638]\n",
    "    ax.plot(steps, ems, label=split, color=colors[idx], alpha=0.9, linewidth=2.0)\n",
    "    splits.append(split)\n",
    "    \n",
    "ax.set_xlabel('Steps')\n",
    "ax.set_ylabel('EM')\n",
    "ax.grid(alpha=0.4)\n",
    "f = lambda m,c: plt.plot([],[],marker=m, color=c, ls=\"none\")[0]\n",
    "handles = [f('s', colors[idx]) for idx in range(len(splits))]\n",
    "labels = [split for split in splits]\n",
    "ax.legend(handles, labels)\n",
    "fig.suptitle(\"Training Curve of \" + model_name + \" on \" + dataset_name)\n",
    "plt.savefig(f\"{BASE_DIR}/results/analysis_res/{model_name}-{dataset_name}.pdf\", format='pdf', bbox_inches=\"tight\")\n",
    "    "
   ]
  },
  {
   "attachments": {},
   "cell_type": "markdown",
   "metadata": {},
   "source": [
    "### Evaluation\n",
    "\n",
    "Evaluates the models and save to csv files. This section assumes access to `pred/` dir, which includes `.txt` files of model predictions."
   ]
  },
  {
   "cell_type": "code",
   "execution_count": 5,
   "metadata": {},
   "outputs": [],
   "source": [
    "from evaluate_utils import evaluate_model, evaluate_all_model_for_dataset, evaluate_all, gen_performance_table"
   ]
  },
  {
   "cell_type": "code",
   "execution_count": 9,
   "metadata": {},
   "outputs": [
    {
     "name": "stdout",
     "output_type": "stream",
     "text": [
      "Loading standard of geoquery dataset\n"
     ]
    },
    {
     "name": "stderr",
     "output_type": "stream",
     "text": [
      "WARNING:datasets.builder:Using custom data configuration default-37f1fbd974a89e3d\n",
      "WARNING:datasets.builder:Found cached dataset csv (/private/home/kaisersun/.cache/huggingface/datasets/csv/default-37f1fbd974a89e3d/0.0.0/6b34fb8fcf56f7c8ba51dc895bfa2bfbe43546f190a60fcf74bb5e8afdcc2317)\n"
     ]
    },
    {
     "data": {
      "application/vnd.jupyter.widget-view+json": {
       "model_id": "e0912bf8b9824f54a1930ad6544e8871",
       "version_major": 2,
       "version_minor": 0
      },
      "text/plain": [
       "  0%|          | 0/2 [00:00<?, ?it/s]"
      ]
     },
     "metadata": {},
     "output_type": "display_data"
    },
    {
     "data": {
      "text/plain": [
       "{'raw_exact_match': 0.15357142857142858,\n",
       " 'ignore_case': 0.15357142857142858,\n",
       " 'ignore_case_and_punc': 0.15357142857142858,\n",
       " 'ignore_space': 0.9214285714285714,\n",
       " 'most_lenient': 0.9214285714285714,\n",
       " 'f1': 0.9853268435242557}"
      ]
     },
     "execution_count": 9,
     "metadata": {},
     "output_type": "execute_result"
    }
   ],
   "source": [
    "evaluate_model(dataset_name='geoquery', split='standard', model_name='t5-base', random_seed='42', eval_split='test')"
   ]
  },
  {
   "cell_type": "code",
   "execution_count": 10,
   "metadata": {},
   "outputs": [
    {
     "name": "stdout",
     "output_type": "stream",
     "text": [
      "Loading tmcd of geoquery dataset\n"
     ]
    },
    {
     "name": "stderr",
     "output_type": "stream",
     "text": [
      "WARNING:datasets.builder:Using custom data configuration default-3e45cea845a8949e\n",
      "WARNING:datasets.builder:Found cached dataset csv (/private/home/kaisersun/.cache/huggingface/datasets/csv/default-3e45cea845a8949e/0.0.0/6b34fb8fcf56f7c8ba51dc895bfa2bfbe43546f190a60fcf74bb5e8afdcc2317)\n"
     ]
    },
    {
     "data": {
      "application/vnd.jupyter.widget-view+json": {
       "model_id": "d276374d76b649818e58100903619bfd",
       "version_major": 2,
       "version_minor": 0
      },
      "text/plain": [
       "  0%|          | 0/2 [00:00<?, ?it/s]"
      ]
     },
     "metadata": {},
     "output_type": "display_data"
    },
    {
     "name": "stdout",
     "output_type": "stream",
     "text": [
      "\n",
      "\n",
      "The model  t5-base  has issue with seed 0  on dataset  geoquery\n",
      "Loading tmcd of geoquery dataset\n"
     ]
    },
    {
     "name": "stderr",
     "output_type": "stream",
     "text": [
      "WARNING:datasets.builder:Using custom data configuration default-3e45cea845a8949e\n",
      "WARNING:datasets.builder:Found cached dataset csv (/private/home/kaisersun/.cache/huggingface/datasets/csv/default-3e45cea845a8949e/0.0.0/6b34fb8fcf56f7c8ba51dc895bfa2bfbe43546f190a60fcf74bb5e8afdcc2317)\n"
     ]
    },
    {
     "data": {
      "application/vnd.jupyter.widget-view+json": {
       "model_id": "1b98c99a59a747aab1bf495bd719a207",
       "version_major": 2,
       "version_minor": 0
      },
      "text/plain": [
       "  0%|          | 0/2 [00:00<?, ?it/s]"
      ]
     },
     "metadata": {},
     "output_type": "display_data"
    },
    {
     "name": "stdout",
     "output_type": "stream",
     "text": [
      "Loading tmcd of geoquery dataset\n"
     ]
    },
    {
     "name": "stderr",
     "output_type": "stream",
     "text": [
      "WARNING:datasets.builder:Using custom data configuration default-3e45cea845a8949e\n",
      "WARNING:datasets.builder:Found cached dataset csv (/private/home/kaisersun/.cache/huggingface/datasets/csv/default-3e45cea845a8949e/0.0.0/6b34fb8fcf56f7c8ba51dc895bfa2bfbe43546f190a60fcf74bb5e8afdcc2317)\n"
     ]
    },
    {
     "data": {
      "application/vnd.jupyter.widget-view+json": {
       "model_id": "83193d33ddc843349b68dd253ac2785c",
       "version_major": 2,
       "version_minor": 0
      },
      "text/plain": [
       "  0%|          | 0/2 [00:00<?, ?it/s]"
      ]
     },
     "metadata": {},
     "output_type": "display_data"
    },
    {
     "name": "stderr",
     "output_type": "stream",
     "text": [
      "/private/home/kaisersun/CompGenComparision/utils/evaluate_utils.py:125: FutureWarning: The frame.append method is deprecated and will be removed from pandas in a future version. Use pandas.concat instead.\n",
      "  res = res.append(std, ignore_index=True)\n",
      "/private/home/kaisersun/CompGenComparision/utils/evaluate_utils.py:126: FutureWarning: The frame.append method is deprecated and will be removed from pandas in a future version. Use pandas.concat instead.\n",
      "  res = res.append(mean, ignore_index=True)\n"
     ]
    },
    {
     "name": "stdout",
     "output_type": "stream",
     "text": [
      "Loading standard of geoquery dataset\n"
     ]
    },
    {
     "name": "stderr",
     "output_type": "stream",
     "text": [
      "WARNING:datasets.builder:Using custom data configuration default-37f1fbd974a89e3d\n",
      "WARNING:datasets.builder:Found cached dataset csv (/private/home/kaisersun/.cache/huggingface/datasets/csv/default-37f1fbd974a89e3d/0.0.0/6b34fb8fcf56f7c8ba51dc895bfa2bfbe43546f190a60fcf74bb5e8afdcc2317)\n"
     ]
    },
    {
     "data": {
      "application/vnd.jupyter.widget-view+json": {
       "model_id": "501528bd06d2476e8c09ad19be5b1e8d",
       "version_major": 2,
       "version_minor": 0
      },
      "text/plain": [
       "  0%|          | 0/2 [00:00<?, ?it/s]"
      ]
     },
     "metadata": {},
     "output_type": "display_data"
    },
    {
     "name": "stdout",
     "output_type": "stream",
     "text": [
      "Loading standard of geoquery dataset\n"
     ]
    },
    {
     "name": "stderr",
     "output_type": "stream",
     "text": [
      "WARNING:datasets.builder:Using custom data configuration default-37f1fbd974a89e3d\n",
      "WARNING:datasets.builder:Found cached dataset csv (/private/home/kaisersun/.cache/huggingface/datasets/csv/default-37f1fbd974a89e3d/0.0.0/6b34fb8fcf56f7c8ba51dc895bfa2bfbe43546f190a60fcf74bb5e8afdcc2317)\n"
     ]
    },
    {
     "data": {
      "application/vnd.jupyter.widget-view+json": {
       "model_id": "bbb1babe1a8e4dedb858249a8fbd3b81",
       "version_major": 2,
       "version_minor": 0
      },
      "text/plain": [
       "  0%|          | 0/2 [00:00<?, ?it/s]"
      ]
     },
     "metadata": {},
     "output_type": "display_data"
    },
    {
     "name": "stdout",
     "output_type": "stream",
     "text": [
      "Loading standard of geoquery dataset\n"
     ]
    },
    {
     "name": "stderr",
     "output_type": "stream",
     "text": [
      "WARNING:datasets.builder:Using custom data configuration default-37f1fbd974a89e3d\n",
      "WARNING:datasets.builder:Found cached dataset csv (/private/home/kaisersun/.cache/huggingface/datasets/csv/default-37f1fbd974a89e3d/0.0.0/6b34fb8fcf56f7c8ba51dc895bfa2bfbe43546f190a60fcf74bb5e8afdcc2317)\n"
     ]
    },
    {
     "data": {
      "application/vnd.jupyter.widget-view+json": {
       "model_id": "af13b88d3699445682eb484b0d278726",
       "version_major": 2,
       "version_minor": 0
      },
      "text/plain": [
       "  0%|          | 0/2 [00:00<?, ?it/s]"
      ]
     },
     "metadata": {},
     "output_type": "display_data"
    },
    {
     "name": "stderr",
     "output_type": "stream",
     "text": [
      "/private/home/kaisersun/CompGenComparision/utils/evaluate_utils.py:125: FutureWarning: The frame.append method is deprecated and will be removed from pandas in a future version. Use pandas.concat instead.\n",
      "  res = res.append(std, ignore_index=True)\n",
      "/private/home/kaisersun/CompGenComparision/utils/evaluate_utils.py:126: FutureWarning: The frame.append method is deprecated and will be removed from pandas in a future version. Use pandas.concat instead.\n",
      "  res = res.append(mean, ignore_index=True)\n"
     ]
    },
    {
     "name": "stdout",
     "output_type": "stream",
     "text": [
      "Loading length of geoquery dataset\n"
     ]
    },
    {
     "name": "stderr",
     "output_type": "stream",
     "text": [
      "WARNING:datasets.builder:Using custom data configuration default-f99fd76e4500f332\n",
      "WARNING:datasets.builder:Found cached dataset csv (/private/home/kaisersun/.cache/huggingface/datasets/csv/default-f99fd76e4500f332/0.0.0/6b34fb8fcf56f7c8ba51dc895bfa2bfbe43546f190a60fcf74bb5e8afdcc2317)\n"
     ]
    },
    {
     "data": {
      "application/vnd.jupyter.widget-view+json": {
       "model_id": "dae906244bd74990bb9494cc60ab6742",
       "version_major": 2,
       "version_minor": 0
      },
      "text/plain": [
       "  0%|          | 0/2 [00:00<?, ?it/s]"
      ]
     },
     "metadata": {},
     "output_type": "display_data"
    },
    {
     "name": "stdout",
     "output_type": "stream",
     "text": [
      "Loading length of geoquery dataset\n"
     ]
    },
    {
     "name": "stderr",
     "output_type": "stream",
     "text": [
      "WARNING:datasets.builder:Using custom data configuration default-f99fd76e4500f332\n",
      "WARNING:datasets.builder:Found cached dataset csv (/private/home/kaisersun/.cache/huggingface/datasets/csv/default-f99fd76e4500f332/0.0.0/6b34fb8fcf56f7c8ba51dc895bfa2bfbe43546f190a60fcf74bb5e8afdcc2317)\n"
     ]
    },
    {
     "data": {
      "application/vnd.jupyter.widget-view+json": {
       "model_id": "0e9406e19f3e4f0b9d078b9a28ea869b",
       "version_major": 2,
       "version_minor": 0
      },
      "text/plain": [
       "  0%|          | 0/2 [00:00<?, ?it/s]"
      ]
     },
     "metadata": {},
     "output_type": "display_data"
    },
    {
     "name": "stdout",
     "output_type": "stream",
     "text": [
      "Loading length of geoquery dataset\n"
     ]
    },
    {
     "name": "stderr",
     "output_type": "stream",
     "text": [
      "WARNING:datasets.builder:Using custom data configuration default-f99fd76e4500f332\n",
      "WARNING:datasets.builder:Found cached dataset csv (/private/home/kaisersun/.cache/huggingface/datasets/csv/default-f99fd76e4500f332/0.0.0/6b34fb8fcf56f7c8ba51dc895bfa2bfbe43546f190a60fcf74bb5e8afdcc2317)\n"
     ]
    },
    {
     "data": {
      "application/vnd.jupyter.widget-view+json": {
       "model_id": "d8aa2e7361a5425d928fb9c399e53716",
       "version_major": 2,
       "version_minor": 0
      },
      "text/plain": [
       "  0%|          | 0/2 [00:00<?, ?it/s]"
      ]
     },
     "metadata": {},
     "output_type": "display_data"
    },
    {
     "name": "stderr",
     "output_type": "stream",
     "text": [
      "/private/home/kaisersun/CompGenComparision/utils/evaluate_utils.py:125: FutureWarning: The frame.append method is deprecated and will be removed from pandas in a future version. Use pandas.concat instead.\n",
      "  res = res.append(std, ignore_index=True)\n",
      "/private/home/kaisersun/CompGenComparision/utils/evaluate_utils.py:126: FutureWarning: The frame.append method is deprecated and will be removed from pandas in a future version. Use pandas.concat instead.\n",
      "  res = res.append(mean, ignore_index=True)\n"
     ]
    },
    {
     "name": "stdout",
     "output_type": "stream",
     "text": [
      "Loading template of geoquery dataset\n"
     ]
    },
    {
     "name": "stderr",
     "output_type": "stream",
     "text": [
      "WARNING:datasets.builder:Using custom data configuration default-87c5d6366797d405\n",
      "WARNING:datasets.builder:Found cached dataset csv (/private/home/kaisersun/.cache/huggingface/datasets/csv/default-87c5d6366797d405/0.0.0/6b34fb8fcf56f7c8ba51dc895bfa2bfbe43546f190a60fcf74bb5e8afdcc2317)\n"
     ]
    },
    {
     "data": {
      "application/vnd.jupyter.widget-view+json": {
       "model_id": "f32f69511b704153af09832eb33876cd",
       "version_major": 2,
       "version_minor": 0
      },
      "text/plain": [
       "  0%|          | 0/2 [00:00<?, ?it/s]"
      ]
     },
     "metadata": {},
     "output_type": "display_data"
    },
    {
     "name": "stdout",
     "output_type": "stream",
     "text": [
      "Loading template of geoquery dataset\n"
     ]
    },
    {
     "name": "stderr",
     "output_type": "stream",
     "text": [
      "WARNING:datasets.builder:Using custom data configuration default-87c5d6366797d405\n",
      "WARNING:datasets.builder:Found cached dataset csv (/private/home/kaisersun/.cache/huggingface/datasets/csv/default-87c5d6366797d405/0.0.0/6b34fb8fcf56f7c8ba51dc895bfa2bfbe43546f190a60fcf74bb5e8afdcc2317)\n"
     ]
    },
    {
     "data": {
      "application/vnd.jupyter.widget-view+json": {
       "model_id": "bde3581767544165a23716963fb19436",
       "version_major": 2,
       "version_minor": 0
      },
      "text/plain": [
       "  0%|          | 0/2 [00:00<?, ?it/s]"
      ]
     },
     "metadata": {},
     "output_type": "display_data"
    },
    {
     "name": "stdout",
     "output_type": "stream",
     "text": [
      "Loading template of geoquery dataset\n"
     ]
    },
    {
     "name": "stderr",
     "output_type": "stream",
     "text": [
      "WARNING:datasets.builder:Using custom data configuration default-87c5d6366797d405\n",
      "WARNING:datasets.builder:Found cached dataset csv (/private/home/kaisersun/.cache/huggingface/datasets/csv/default-87c5d6366797d405/0.0.0/6b34fb8fcf56f7c8ba51dc895bfa2bfbe43546f190a60fcf74bb5e8afdcc2317)\n"
     ]
    },
    {
     "data": {
      "application/vnd.jupyter.widget-view+json": {
       "model_id": "81fa9d275bd54003b49f4d06dca01fc2",
       "version_major": 2,
       "version_minor": 0
      },
      "text/plain": [
       "  0%|          | 0/2 [00:00<?, ?it/s]"
      ]
     },
     "metadata": {},
     "output_type": "display_data"
    },
    {
     "name": "stderr",
     "output_type": "stream",
     "text": [
      "/private/home/kaisersun/CompGenComparision/utils/evaluate_utils.py:125: FutureWarning: The frame.append method is deprecated and will be removed from pandas in a future version. Use pandas.concat instead.\n",
      "  res = res.append(std, ignore_index=True)\n",
      "/private/home/kaisersun/CompGenComparision/utils/evaluate_utils.py:126: FutureWarning: The frame.append method is deprecated and will be removed from pandas in a future version. Use pandas.concat instead.\n",
      "  res = res.append(mean, ignore_index=True)\n"
     ]
    },
    {
     "name": "stdout",
     "output_type": "stream",
     "text": [
      "Loading test of geoquery dataset\n"
     ]
    },
    {
     "name": "stderr",
     "output_type": "stream",
     "text": [
      "WARNING:datasets.builder:Using custom data configuration default-a2bc6021a757c384\n"
     ]
    },
    {
     "name": "stdout",
     "output_type": "stream",
     "text": [
      "Downloading and preparing dataset csv/default to /private/home/kaisersun/.cache/huggingface/datasets/csv/default-a2bc6021a757c384/0.0.0/6b34fb8fcf56f7c8ba51dc895bfa2bfbe43546f190a60fcf74bb5e8afdcc2317...\n",
      "\n",
      "\n",
      "The model  t5-base  has issue with seed 0  on dataset  geoquery\n",
      "Loading test of geoquery dataset\n"
     ]
    },
    {
     "name": "stderr",
     "output_type": "stream",
     "text": [
      "WARNING:datasets.builder:Using custom data configuration default-a2bc6021a757c384\n"
     ]
    },
    {
     "name": "stdout",
     "output_type": "stream",
     "text": [
      "Downloading and preparing dataset csv/default to /private/home/kaisersun/.cache/huggingface/datasets/csv/default-a2bc6021a757c384/0.0.0/6b34fb8fcf56f7c8ba51dc895bfa2bfbe43546f190a60fcf74bb5e8afdcc2317...\n",
      "\n",
      "\n",
      "The model  t5-base  has issue with seed 42  on dataset  geoquery\n",
      "Loading test of geoquery dataset\n"
     ]
    },
    {
     "name": "stderr",
     "output_type": "stream",
     "text": [
      "WARNING:datasets.builder:Using custom data configuration default-a2bc6021a757c384\n"
     ]
    },
    {
     "name": "stdout",
     "output_type": "stream",
     "text": [
      "Downloading and preparing dataset csv/default to /private/home/kaisersun/.cache/huggingface/datasets/csv/default-a2bc6021a757c384/0.0.0/6b34fb8fcf56f7c8ba51dc895bfa2bfbe43546f190a60fcf74bb5e8afdcc2317...\n",
      "\n",
      "\n",
      "The model  t5-base  has issue with seed 12345  on dataset  geoquery\n",
      "Loading standard_random_str of geoquery dataset\n"
     ]
    },
    {
     "name": "stderr",
     "output_type": "stream",
     "text": [
      "WARNING:datasets.builder:Using custom data configuration default-a90f4a1d09c5531a\n",
      "WARNING:datasets.builder:Found cached dataset csv (/private/home/kaisersun/.cache/huggingface/datasets/csv/default-a90f4a1d09c5531a/0.0.0/6b34fb8fcf56f7c8ba51dc895bfa2bfbe43546f190a60fcf74bb5e8afdcc2317)\n"
     ]
    },
    {
     "data": {
      "application/vnd.jupyter.widget-view+json": {
       "model_id": "6e34e12c52a74ab5a470e724ae6dc847",
       "version_major": 2,
       "version_minor": 0
      },
      "text/plain": [
       "  0%|          | 0/2 [00:00<?, ?it/s]"
      ]
     },
     "metadata": {},
     "output_type": "display_data"
    },
    {
     "name": "stdout",
     "output_type": "stream",
     "text": [
      "\n",
      "\n",
      "The model  t5-base  has issue with seed 0  on dataset  geoquery\n",
      "Loading standard_random_str of geoquery dataset\n"
     ]
    },
    {
     "name": "stderr",
     "output_type": "stream",
     "text": [
      "WARNING:datasets.builder:Using custom data configuration default-a90f4a1d09c5531a\n",
      "WARNING:datasets.builder:Found cached dataset csv (/private/home/kaisersun/.cache/huggingface/datasets/csv/default-a90f4a1d09c5531a/0.0.0/6b34fb8fcf56f7c8ba51dc895bfa2bfbe43546f190a60fcf74bb5e8afdcc2317)\n"
     ]
    },
    {
     "data": {
      "application/vnd.jupyter.widget-view+json": {
       "model_id": "c4ce6a13ae454668a51e7e07b34b1dce",
       "version_major": 2,
       "version_minor": 0
      },
      "text/plain": [
       "  0%|          | 0/2 [00:00<?, ?it/s]"
      ]
     },
     "metadata": {},
     "output_type": "display_data"
    },
    {
     "name": "stdout",
     "output_type": "stream",
     "text": [
      "\n",
      "\n",
      "The model  t5-base  has issue with seed 42  on dataset  geoquery\n",
      "Loading standard_random_str of geoquery dataset\n"
     ]
    },
    {
     "name": "stderr",
     "output_type": "stream",
     "text": [
      "WARNING:datasets.builder:Using custom data configuration default-a90f4a1d09c5531a\n",
      "WARNING:datasets.builder:Found cached dataset csv (/private/home/kaisersun/.cache/huggingface/datasets/csv/default-a90f4a1d09c5531a/0.0.0/6b34fb8fcf56f7c8ba51dc895bfa2bfbe43546f190a60fcf74bb5e8afdcc2317)\n"
     ]
    },
    {
     "data": {
      "application/vnd.jupyter.widget-view+json": {
       "model_id": "a93b8399f3a84cd29f5a7f864b1c3bd4",
       "version_major": 2,
       "version_minor": 0
      },
      "text/plain": [
       "  0%|          | 0/2 [00:00<?, ?it/s]"
      ]
     },
     "metadata": {},
     "output_type": "display_data"
    },
    {
     "name": "stdout",
     "output_type": "stream",
     "text": [
      "\n",
      "\n",
      "The model  t5-base  has issue with seed 12345  on dataset  geoquery\n",
      "Loading standard_random_cvcv of geoquery dataset\n"
     ]
    },
    {
     "name": "stderr",
     "output_type": "stream",
     "text": [
      "WARNING:datasets.builder:Using custom data configuration default-8561e2c0aa983743\n",
      "WARNING:datasets.builder:Found cached dataset csv (/private/home/kaisersun/.cache/huggingface/datasets/csv/default-8561e2c0aa983743/0.0.0/6b34fb8fcf56f7c8ba51dc895bfa2bfbe43546f190a60fcf74bb5e8afdcc2317)\n"
     ]
    },
    {
     "data": {
      "application/vnd.jupyter.widget-view+json": {
       "model_id": "a1c77101fb4e4f0ca64bf557b34badd5",
       "version_major": 2,
       "version_minor": 0
      },
      "text/plain": [
       "  0%|          | 0/2 [00:00<?, ?it/s]"
      ]
     },
     "metadata": {},
     "output_type": "display_data"
    },
    {
     "name": "stdout",
     "output_type": "stream",
     "text": [
      "\n",
      "\n",
      "The model  t5-base  has issue with seed 0  on dataset  geoquery\n",
      "Loading standard_random_cvcv of geoquery dataset\n"
     ]
    },
    {
     "name": "stderr",
     "output_type": "stream",
     "text": [
      "WARNING:datasets.builder:Using custom data configuration default-8561e2c0aa983743\n",
      "WARNING:datasets.builder:Found cached dataset csv (/private/home/kaisersun/.cache/huggingface/datasets/csv/default-8561e2c0aa983743/0.0.0/6b34fb8fcf56f7c8ba51dc895bfa2bfbe43546f190a60fcf74bb5e8afdcc2317)\n"
     ]
    },
    {
     "data": {
      "application/vnd.jupyter.widget-view+json": {
       "model_id": "ab48dacddc6a4001a7db86577ebd1677",
       "version_major": 2,
       "version_minor": 0
      },
      "text/plain": [
       "  0%|          | 0/2 [00:00<?, ?it/s]"
      ]
     },
     "metadata": {},
     "output_type": "display_data"
    },
    {
     "name": "stdout",
     "output_type": "stream",
     "text": [
      "\n",
      "\n",
      "The model  t5-base  has issue with seed 42  on dataset  geoquery\n",
      "Loading standard_random_cvcv of geoquery dataset\n"
     ]
    },
    {
     "name": "stderr",
     "output_type": "stream",
     "text": [
      "WARNING:datasets.builder:Using custom data configuration default-8561e2c0aa983743\n",
      "WARNING:datasets.builder:Found cached dataset csv (/private/home/kaisersun/.cache/huggingface/datasets/csv/default-8561e2c0aa983743/0.0.0/6b34fb8fcf56f7c8ba51dc895bfa2bfbe43546f190a60fcf74bb5e8afdcc2317)\n"
     ]
    },
    {
     "data": {
      "application/vnd.jupyter.widget-view+json": {
       "model_id": "890be07d20f64259a6ea54635f00855f",
       "version_major": 2,
       "version_minor": 0
      },
      "text/plain": [
       "  0%|          | 0/2 [00:00<?, ?it/s]"
      ]
     },
     "metadata": {},
     "output_type": "display_data"
    },
    {
     "name": "stdout",
     "output_type": "stream",
     "text": [
      "\n",
      "\n",
      "The model  t5-base  has issue with seed 12345  on dataset  geoquery\n",
      "\n",
      "\n",
      "The model  lstm_bi  has issue with seed 1  on dataset  geoquery\n"
     ]
    },
    {
     "name": "stderr",
     "output_type": "stream",
     "text": [
      "/private/home/kaisersun/CompGenComparision/utils/evaluate_utils.py:125: FutureWarning: The frame.append method is deprecated and will be removed from pandas in a future version. Use pandas.concat instead.\n",
      "  res = res.append(std, ignore_index=True)\n",
      "/private/home/kaisersun/CompGenComparision/utils/evaluate_utils.py:126: FutureWarning: The frame.append method is deprecated and will be removed from pandas in a future version. Use pandas.concat instead.\n",
      "  res = res.append(mean, ignore_index=True)\n"
     ]
    },
    {
     "name": "stdout",
     "output_type": "stream",
     "text": [
      "\n",
      "\n",
      "The model  lstm_bi  has issue with seed 1  on dataset  geoquery\n"
     ]
    },
    {
     "name": "stderr",
     "output_type": "stream",
     "text": [
      "/private/home/kaisersun/CompGenComparision/utils/evaluate_utils.py:125: FutureWarning: The frame.append method is deprecated and will be removed from pandas in a future version. Use pandas.concat instead.\n",
      "  res = res.append(std, ignore_index=True)\n",
      "/private/home/kaisersun/CompGenComparision/utils/evaluate_utils.py:126: FutureWarning: The frame.append method is deprecated and will be removed from pandas in a future version. Use pandas.concat instead.\n",
      "  res = res.append(mean, ignore_index=True)\n"
     ]
    },
    {
     "name": "stdout",
     "output_type": "stream",
     "text": [
      "\n",
      "\n",
      "The model  lstm_bi  has issue with seed 1  on dataset  geoquery\n"
     ]
    },
    {
     "name": "stderr",
     "output_type": "stream",
     "text": [
      "/private/home/kaisersun/CompGenComparision/utils/evaluate_utils.py:125: FutureWarning: The frame.append method is deprecated and will be removed from pandas in a future version. Use pandas.concat instead.\n",
      "  res = res.append(std, ignore_index=True)\n",
      "/private/home/kaisersun/CompGenComparision/utils/evaluate_utils.py:126: FutureWarning: The frame.append method is deprecated and will be removed from pandas in a future version. Use pandas.concat instead.\n",
      "  res = res.append(mean, ignore_index=True)\n",
      "/private/home/kaisersun/CompGenComparision/utils/evaluate_utils.py:125: FutureWarning: The frame.append method is deprecated and will be removed from pandas in a future version. Use pandas.concat instead.\n",
      "  res = res.append(std, ignore_index=True)\n",
      "/private/home/kaisersun/CompGenComparision/utils/evaluate_utils.py:126: FutureWarning: The frame.append method is deprecated and will be removed from pandas in a future version. Use pandas.concat instead.\n",
      "  res = res.append(mean, ignore_index=True)\n"
     ]
    },
    {
     "name": "stdout",
     "output_type": "stream",
     "text": [
      "\n",
      "\n",
      "The model  lstm_bi  has issue with seed 0  on dataset  geoquery\n",
      "\n",
      "\n",
      "The model  lstm_bi  has issue with seed 1  on dataset  geoquery\n",
      "\n",
      "\n",
      "The model  lstm_bi  has issue with seed 5  on dataset  geoquery\n",
      "\n",
      "\n",
      "The model  lstm_bi  has issue with seed 42  on dataset  geoquery\n",
      "\n",
      "\n",
      "The model  lstm_bi  has issue with seed 12345  on dataset  geoquery\n"
     ]
    },
    {
     "name": "stderr",
     "output_type": "stream",
     "text": [
      "/private/home/kaisersun/.conda/envs/gen/lib/python3.9/site-packages/numpy/core/fromnumeric.py:3432: RuntimeWarning: Mean of empty slice.\n",
      "  return _methods._mean(a, axis=axis, dtype=dtype,\n",
      "/private/home/kaisersun/.conda/envs/gen/lib/python3.9/site-packages/numpy/core/_methods.py:190: RuntimeWarning: invalid value encountered in double_scalars\n",
      "  ret = ret.dtype.type(ret / rcount)\n"
     ]
    },
    {
     "name": "stdout",
     "output_type": "stream",
     "text": [
      "\n",
      "\n",
      "The model  lstm_bi  has issue with seed 1  on dataset  geoquery\n"
     ]
    },
    {
     "name": "stderr",
     "output_type": "stream",
     "text": [
      "/private/home/kaisersun/CompGenComparision/utils/evaluate_utils.py:125: FutureWarning: The frame.append method is deprecated and will be removed from pandas in a future version. Use pandas.concat instead.\n",
      "  res = res.append(std, ignore_index=True)\n",
      "/private/home/kaisersun/CompGenComparision/utils/evaluate_utils.py:126: FutureWarning: The frame.append method is deprecated and will be removed from pandas in a future version. Use pandas.concat instead.\n",
      "  res = res.append(mean, ignore_index=True)\n",
      "/private/home/kaisersun/.conda/envs/gen/lib/python3.9/site-packages/numpy/core/fromnumeric.py:3432: RuntimeWarning: Mean of empty slice.\n",
      "  return _methods._mean(a, axis=axis, dtype=dtype,\n",
      "/private/home/kaisersun/.conda/envs/gen/lib/python3.9/site-packages/numpy/core/_methods.py:190: RuntimeWarning: invalid value encountered in double_scalars\n",
      "  ret = ret.dtype.type(ret / rcount)\n"
     ]
    },
    {
     "name": "stdout",
     "output_type": "stream",
     "text": [
      "\n",
      "\n",
      "The model  lstm_bi  has issue with seed 0  on dataset  geoquery\n",
      "\n",
      "\n",
      "The model  lstm_bi  has issue with seed 1  on dataset  geoquery\n",
      "\n",
      "\n",
      "The model  lstm_bi  has issue with seed 5  on dataset  geoquery\n",
      "\n",
      "\n",
      "The model  lstm_bi  has issue with seed 42  on dataset  geoquery\n",
      "\n",
      "\n",
      "The model  lstm_bi  has issue with seed 12345  on dataset  geoquery\n",
      "\n",
      "\n",
      "The model  lstm_uni  has issue with seed 1  on dataset  geoquery\n"
     ]
    },
    {
     "name": "stderr",
     "output_type": "stream",
     "text": [
      "/private/home/kaisersun/CompGenComparision/utils/evaluate_utils.py:125: FutureWarning: The frame.append method is deprecated and will be removed from pandas in a future version. Use pandas.concat instead.\n",
      "  res = res.append(std, ignore_index=True)\n",
      "/private/home/kaisersun/CompGenComparision/utils/evaluate_utils.py:126: FutureWarning: The frame.append method is deprecated and will be removed from pandas in a future version. Use pandas.concat instead.\n",
      "  res = res.append(mean, ignore_index=True)\n"
     ]
    },
    {
     "name": "stdout",
     "output_type": "stream",
     "text": [
      "\n",
      "\n",
      "The model  lstm_uni  has issue with seed 1  on dataset  geoquery\n"
     ]
    },
    {
     "name": "stderr",
     "output_type": "stream",
     "text": [
      "/private/home/kaisersun/CompGenComparision/utils/evaluate_utils.py:125: FutureWarning: The frame.append method is deprecated and will be removed from pandas in a future version. Use pandas.concat instead.\n",
      "  res = res.append(std, ignore_index=True)\n",
      "/private/home/kaisersun/CompGenComparision/utils/evaluate_utils.py:126: FutureWarning: The frame.append method is deprecated and will be removed from pandas in a future version. Use pandas.concat instead.\n",
      "  res = res.append(mean, ignore_index=True)\n"
     ]
    },
    {
     "name": "stdout",
     "output_type": "stream",
     "text": [
      "\n",
      "\n",
      "The model  lstm_uni  has issue with seed 1  on dataset  geoquery\n"
     ]
    },
    {
     "name": "stderr",
     "output_type": "stream",
     "text": [
      "/private/home/kaisersun/CompGenComparision/utils/evaluate_utils.py:125: FutureWarning: The frame.append method is deprecated and will be removed from pandas in a future version. Use pandas.concat instead.\n",
      "  res = res.append(std, ignore_index=True)\n",
      "/private/home/kaisersun/CompGenComparision/utils/evaluate_utils.py:126: FutureWarning: The frame.append method is deprecated and will be removed from pandas in a future version. Use pandas.concat instead.\n",
      "  res = res.append(mean, ignore_index=True)\n",
      "/private/home/kaisersun/CompGenComparision/utils/evaluate_utils.py:125: FutureWarning: The frame.append method is deprecated and will be removed from pandas in a future version. Use pandas.concat instead.\n",
      "  res = res.append(std, ignore_index=True)\n",
      "/private/home/kaisersun/CompGenComparision/utils/evaluate_utils.py:126: FutureWarning: The frame.append method is deprecated and will be removed from pandas in a future version. Use pandas.concat instead.\n",
      "  res = res.append(mean, ignore_index=True)\n"
     ]
    },
    {
     "name": "stdout",
     "output_type": "stream",
     "text": [
      "\n",
      "\n",
      "The model  lstm_uni  has issue with seed 0  on dataset  geoquery\n",
      "\n",
      "\n",
      "The model  lstm_uni  has issue with seed 1  on dataset  geoquery\n",
      "\n",
      "\n",
      "The model  lstm_uni  has issue with seed 5  on dataset  geoquery\n",
      "\n",
      "\n",
      "The model  lstm_uni  has issue with seed 42  on dataset  geoquery\n",
      "\n",
      "\n",
      "The model  lstm_uni  has issue with seed 12345  on dataset  geoquery\n"
     ]
    },
    {
     "name": "stderr",
     "output_type": "stream",
     "text": [
      "/private/home/kaisersun/CompGenComparision/utils/evaluate_utils.py:125: FutureWarning: The frame.append method is deprecated and will be removed from pandas in a future version. Use pandas.concat instead.\n",
      "  res = res.append(std, ignore_index=True)\n",
      "/private/home/kaisersun/CompGenComparision/utils/evaluate_utils.py:126: FutureWarning: The frame.append method is deprecated and will be removed from pandas in a future version. Use pandas.concat instead.\n",
      "  res = res.append(mean, ignore_index=True)\n",
      "/private/home/kaisersun/.conda/envs/gen/lib/python3.9/site-packages/numpy/core/fromnumeric.py:3432: RuntimeWarning: Mean of empty slice.\n",
      "  return _methods._mean(a, axis=axis, dtype=dtype,\n",
      "/private/home/kaisersun/.conda/envs/gen/lib/python3.9/site-packages/numpy/core/_methods.py:190: RuntimeWarning: invalid value encountered in double_scalars\n",
      "  ret = ret.dtype.type(ret / rcount)\n"
     ]
    },
    {
     "name": "stdout",
     "output_type": "stream",
     "text": [
      "\n",
      "\n",
      "The model  lstm_uni  has issue with seed 0  on dataset  geoquery\n",
      "\n",
      "\n",
      "The model  lstm_uni  has issue with seed 1  on dataset  geoquery\n",
      "\n",
      "\n",
      "The model  lstm_uni  has issue with seed 5  on dataset  geoquery\n",
      "\n",
      "\n",
      "The model  lstm_uni  has issue with seed 42  on dataset  geoquery\n",
      "\n",
      "\n",
      "The model  lstm_uni  has issue with seed 12345  on dataset  geoquery\n",
      "\n",
      "\n",
      "The model  transformer  has issue with seed 0  on dataset  geoquery\n",
      "\n",
      "\n",
      "The model  transformer  has issue with seed 1  on dataset  geoquery\n",
      "\n",
      "\n",
      "The model  transformer  has issue with seed 5  on dataset  geoquery\n",
      "\n",
      "\n",
      "The model  transformer  has issue with seed 42  on dataset  geoquery\n",
      "\n",
      "\n",
      "The model  transformer  has issue with seed 12345  on dataset  geoquery\n",
      "\n",
      "\n",
      "The model  transformer  has issue with seed 0  on dataset  geoquery\n",
      "\n",
      "\n",
      "The model  transformer  has issue with seed 1  on dataset  geoquery\n",
      "\n",
      "\n",
      "The model  transformer  has issue with seed 5  on dataset  geoquery\n",
      "\n",
      "\n",
      "The model  transformer  has issue with seed 42  on dataset  geoquery\n",
      "\n",
      "\n",
      "The model  transformer  has issue with seed 12345  on dataset  geoquery\n",
      "\n",
      "\n",
      "The model  transformer  has issue with seed 0  on dataset  geoquery\n",
      "\n",
      "\n",
      "The model  transformer  has issue with seed 1  on dataset  geoquery\n",
      "\n",
      "\n",
      "The model  transformer  has issue with seed 5  on dataset  geoquery\n",
      "\n",
      "\n",
      "The model  transformer  has issue with seed 42  on dataset  geoquery\n",
      "\n",
      "\n",
      "The model  transformer  has issue with seed 12345  on dataset  geoquery\n",
      "\n",
      "\n",
      "The model  transformer  has issue with seed 0  on dataset  geoquery\n",
      "\n",
      "\n",
      "The model  transformer  has issue with seed 1  on dataset  geoquery\n",
      "\n",
      "\n",
      "The model  transformer  has issue with seed 5  on dataset  geoquery\n",
      "\n",
      "\n",
      "The model  transformer  has issue with seed 42  on dataset  geoquery\n",
      "\n",
      "\n",
      "The model  transformer  has issue with seed 12345  on dataset  geoquery\n",
      "\n",
      "\n",
      "The model  transformer  has issue with seed 0  on dataset  geoquery\n",
      "\n",
      "\n",
      "The model  transformer  has issue with seed 1  on dataset  geoquery\n",
      "\n",
      "\n",
      "The model  transformer  has issue with seed 5  on dataset  geoquery\n",
      "\n",
      "\n",
      "The model  transformer  has issue with seed 42  on dataset  geoquery\n",
      "\n",
      "\n",
      "The model  transformer  has issue with seed 12345  on dataset  geoquery\n",
      "\n",
      "\n",
      "The model  transformer  has issue with seed 0  on dataset  geoquery\n",
      "\n",
      "\n",
      "The model  transformer  has issue with seed 1  on dataset  geoquery\n",
      "\n",
      "\n",
      "The model  transformer  has issue with seed 5  on dataset  geoquery\n",
      "\n",
      "\n",
      "The model  transformer  has issue with seed 42  on dataset  geoquery\n",
      "\n",
      "\n",
      "The model  transformer  has issue with seed 12345  on dataset  geoquery\n",
      "\n",
      "\n",
      "The model  transformer  has issue with seed 0  on dataset  geoquery\n",
      "\n",
      "\n",
      "The model  transformer  has issue with seed 1  on dataset  geoquery\n",
      "\n",
      "\n",
      "The model  transformer  has issue with seed 5  on dataset  geoquery\n",
      "\n",
      "\n",
      "The model  transformer  has issue with seed 42  on dataset  geoquery\n",
      "\n",
      "\n",
      "The model  transformer  has issue with seed 12345  on dataset  geoquery\n",
      "Loading tmcd of geoquery dataset\n"
     ]
    },
    {
     "name": "stderr",
     "output_type": "stream",
     "text": [
      "WARNING:datasets.builder:Using custom data configuration default-3e45cea845a8949e\n",
      "WARNING:datasets.builder:Found cached dataset csv (/private/home/kaisersun/.cache/huggingface/datasets/csv/default-3e45cea845a8949e/0.0.0/6b34fb8fcf56f7c8ba51dc895bfa2bfbe43546f190a60fcf74bb5e8afdcc2317)\n"
     ]
    },
    {
     "data": {
      "application/vnd.jupyter.widget-view+json": {
       "model_id": "674ab3fcddc242caa1822db9ddfb1d0e",
       "version_major": 2,
       "version_minor": 0
      },
      "text/plain": [
       "  0%|          | 0/2 [00:00<?, ?it/s]"
      ]
     },
     "metadata": {},
     "output_type": "display_data"
    },
    {
     "name": "stdout",
     "output_type": "stream",
     "text": [
      "\n",
      "\n",
      "The model  nqg  has issue with seed 0  on dataset  geoquery\n",
      "Loading tmcd of geoquery dataset\n"
     ]
    },
    {
     "name": "stderr",
     "output_type": "stream",
     "text": [
      "WARNING:datasets.builder:Using custom data configuration default-3e45cea845a8949e\n",
      "WARNING:datasets.builder:Found cached dataset csv (/private/home/kaisersun/.cache/huggingface/datasets/csv/default-3e45cea845a8949e/0.0.0/6b34fb8fcf56f7c8ba51dc895bfa2bfbe43546f190a60fcf74bb5e8afdcc2317)\n"
     ]
    },
    {
     "data": {
      "application/vnd.jupyter.widget-view+json": {
       "model_id": "410f0c8c00c746c5829d52e7e5e7ac5d",
       "version_major": 2,
       "version_minor": 0
      },
      "text/plain": [
       "  0%|          | 0/2 [00:00<?, ?it/s]"
      ]
     },
     "metadata": {},
     "output_type": "display_data"
    },
    {
     "name": "stdout",
     "output_type": "stream",
     "text": [
      "Loading tmcd of geoquery dataset\n"
     ]
    },
    {
     "name": "stderr",
     "output_type": "stream",
     "text": [
      "WARNING:datasets.builder:Using custom data configuration default-3e45cea845a8949e\n",
      "WARNING:datasets.builder:Found cached dataset csv (/private/home/kaisersun/.cache/huggingface/datasets/csv/default-3e45cea845a8949e/0.0.0/6b34fb8fcf56f7c8ba51dc895bfa2bfbe43546f190a60fcf74bb5e8afdcc2317)\n"
     ]
    },
    {
     "data": {
      "application/vnd.jupyter.widget-view+json": {
       "model_id": "e39373122c7f463aa9c41b0cebafd5ca",
       "version_major": 2,
       "version_minor": 0
      },
      "text/plain": [
       "  0%|          | 0/2 [00:00<?, ?it/s]"
      ]
     },
     "metadata": {},
     "output_type": "display_data"
    },
    {
     "name": "stderr",
     "output_type": "stream",
     "text": [
      "/private/home/kaisersun/CompGenComparision/utils/evaluate_utils.py:125: FutureWarning: The frame.append method is deprecated and will be removed from pandas in a future version. Use pandas.concat instead.\n",
      "  res = res.append(std, ignore_index=True)\n",
      "/private/home/kaisersun/CompGenComparision/utils/evaluate_utils.py:126: FutureWarning: The frame.append method is deprecated and will be removed from pandas in a future version. Use pandas.concat instead.\n",
      "  res = res.append(mean, ignore_index=True)\n"
     ]
    },
    {
     "name": "stdout",
     "output_type": "stream",
     "text": [
      "\n",
      "\n",
      "The model  nqg  has issue with seed 12345  on dataset  geoquery\n",
      "Loading standard of geoquery dataset\n"
     ]
    },
    {
     "name": "stderr",
     "output_type": "stream",
     "text": [
      "WARNING:datasets.builder:Using custom data configuration default-37f1fbd974a89e3d\n",
      "WARNING:datasets.builder:Found cached dataset csv (/private/home/kaisersun/.cache/huggingface/datasets/csv/default-37f1fbd974a89e3d/0.0.0/6b34fb8fcf56f7c8ba51dc895bfa2bfbe43546f190a60fcf74bb5e8afdcc2317)\n"
     ]
    },
    {
     "data": {
      "application/vnd.jupyter.widget-view+json": {
       "model_id": "2726a3692b234641b286ffd0739103bf",
       "version_major": 2,
       "version_minor": 0
      },
      "text/plain": [
       "  0%|          | 0/2 [00:00<?, ?it/s]"
      ]
     },
     "metadata": {},
     "output_type": "display_data"
    },
    {
     "name": "stdout",
     "output_type": "stream",
     "text": [
      "Loading standard of geoquery dataset\n"
     ]
    },
    {
     "name": "stderr",
     "output_type": "stream",
     "text": [
      "WARNING:datasets.builder:Using custom data configuration default-37f1fbd974a89e3d\n",
      "WARNING:datasets.builder:Found cached dataset csv (/private/home/kaisersun/.cache/huggingface/datasets/csv/default-37f1fbd974a89e3d/0.0.0/6b34fb8fcf56f7c8ba51dc895bfa2bfbe43546f190a60fcf74bb5e8afdcc2317)\n"
     ]
    },
    {
     "data": {
      "application/vnd.jupyter.widget-view+json": {
       "model_id": "45e10df454f94e2e90fa481851aac82d",
       "version_major": 2,
       "version_minor": 0
      },
      "text/plain": [
       "  0%|          | 0/2 [00:00<?, ?it/s]"
      ]
     },
     "metadata": {},
     "output_type": "display_data"
    },
    {
     "name": "stdout",
     "output_type": "stream",
     "text": [
      "Loading standard of geoquery dataset\n"
     ]
    },
    {
     "name": "stderr",
     "output_type": "stream",
     "text": [
      "WARNING:datasets.builder:Using custom data configuration default-37f1fbd974a89e3d\n",
      "WARNING:datasets.builder:Found cached dataset csv (/private/home/kaisersun/.cache/huggingface/datasets/csv/default-37f1fbd974a89e3d/0.0.0/6b34fb8fcf56f7c8ba51dc895bfa2bfbe43546f190a60fcf74bb5e8afdcc2317)\n"
     ]
    },
    {
     "data": {
      "application/vnd.jupyter.widget-view+json": {
       "model_id": "c4e5df5d00724c10af7a33a7ff459723",
       "version_major": 2,
       "version_minor": 0
      },
      "text/plain": [
       "  0%|          | 0/2 [00:00<?, ?it/s]"
      ]
     },
     "metadata": {},
     "output_type": "display_data"
    },
    {
     "name": "stderr",
     "output_type": "stream",
     "text": [
      "/private/home/kaisersun/CompGenComparision/utils/evaluate_utils.py:125: FutureWarning: The frame.append method is deprecated and will be removed from pandas in a future version. Use pandas.concat instead.\n",
      "  res = res.append(std, ignore_index=True)\n",
      "/private/home/kaisersun/CompGenComparision/utils/evaluate_utils.py:126: FutureWarning: The frame.append method is deprecated and will be removed from pandas in a future version. Use pandas.concat instead.\n",
      "  res = res.append(mean, ignore_index=True)\n"
     ]
    },
    {
     "name": "stdout",
     "output_type": "stream",
     "text": [
      "\n",
      "\n",
      "The model  nqg  has issue with seed 12345  on dataset  geoquery\n",
      "Loading length of geoquery dataset\n"
     ]
    },
    {
     "name": "stderr",
     "output_type": "stream",
     "text": [
      "WARNING:datasets.builder:Using custom data configuration default-f99fd76e4500f332\n",
      "WARNING:datasets.builder:Found cached dataset csv (/private/home/kaisersun/.cache/huggingface/datasets/csv/default-f99fd76e4500f332/0.0.0/6b34fb8fcf56f7c8ba51dc895bfa2bfbe43546f190a60fcf74bb5e8afdcc2317)\n"
     ]
    },
    {
     "data": {
      "application/vnd.jupyter.widget-view+json": {
       "model_id": "7cc0407492cb47b294eea07c8db87840",
       "version_major": 2,
       "version_minor": 0
      },
      "text/plain": [
       "  0%|          | 0/2 [00:00<?, ?it/s]"
      ]
     },
     "metadata": {},
     "output_type": "display_data"
    },
    {
     "name": "stdout",
     "output_type": "stream",
     "text": [
      "Loading length of geoquery dataset\n"
     ]
    },
    {
     "name": "stderr",
     "output_type": "stream",
     "text": [
      "WARNING:datasets.builder:Using custom data configuration default-f99fd76e4500f332\n",
      "WARNING:datasets.builder:Found cached dataset csv (/private/home/kaisersun/.cache/huggingface/datasets/csv/default-f99fd76e4500f332/0.0.0/6b34fb8fcf56f7c8ba51dc895bfa2bfbe43546f190a60fcf74bb5e8afdcc2317)\n"
     ]
    },
    {
     "data": {
      "application/vnd.jupyter.widget-view+json": {
       "model_id": "430d3f59974b41fd8ba24259a99c8151",
       "version_major": 2,
       "version_minor": 0
      },
      "text/plain": [
       "  0%|          | 0/2 [00:00<?, ?it/s]"
      ]
     },
     "metadata": {},
     "output_type": "display_data"
    },
    {
     "name": "stdout",
     "output_type": "stream",
     "text": [
      "Loading length of geoquery dataset\n"
     ]
    },
    {
     "name": "stderr",
     "output_type": "stream",
     "text": [
      "WARNING:datasets.builder:Using custom data configuration default-f99fd76e4500f332\n",
      "WARNING:datasets.builder:Found cached dataset csv (/private/home/kaisersun/.cache/huggingface/datasets/csv/default-f99fd76e4500f332/0.0.0/6b34fb8fcf56f7c8ba51dc895bfa2bfbe43546f190a60fcf74bb5e8afdcc2317)\n"
     ]
    },
    {
     "data": {
      "application/vnd.jupyter.widget-view+json": {
       "model_id": "838c06a40dfc47c58ab2a71d1818ed7c",
       "version_major": 2,
       "version_minor": 0
      },
      "text/plain": [
       "  0%|          | 0/2 [00:00<?, ?it/s]"
      ]
     },
     "metadata": {},
     "output_type": "display_data"
    },
    {
     "name": "stderr",
     "output_type": "stream",
     "text": [
      "/private/home/kaisersun/CompGenComparision/utils/evaluate_utils.py:125: FutureWarning: The frame.append method is deprecated and will be removed from pandas in a future version. Use pandas.concat instead.\n",
      "  res = res.append(std, ignore_index=True)\n",
      "/private/home/kaisersun/CompGenComparision/utils/evaluate_utils.py:126: FutureWarning: The frame.append method is deprecated and will be removed from pandas in a future version. Use pandas.concat instead.\n",
      "  res = res.append(mean, ignore_index=True)\n"
     ]
    },
    {
     "name": "stdout",
     "output_type": "stream",
     "text": [
      "Loading template of geoquery dataset\n"
     ]
    },
    {
     "name": "stderr",
     "output_type": "stream",
     "text": [
      "WARNING:datasets.builder:Using custom data configuration default-87c5d6366797d405\n",
      "WARNING:datasets.builder:Found cached dataset csv (/private/home/kaisersun/.cache/huggingface/datasets/csv/default-87c5d6366797d405/0.0.0/6b34fb8fcf56f7c8ba51dc895bfa2bfbe43546f190a60fcf74bb5e8afdcc2317)\n"
     ]
    },
    {
     "data": {
      "application/vnd.jupyter.widget-view+json": {
       "model_id": "335183fe27294888a60236f79f2a10ab",
       "version_major": 2,
       "version_minor": 0
      },
      "text/plain": [
       "  0%|          | 0/2 [00:00<?, ?it/s]"
      ]
     },
     "metadata": {},
     "output_type": "display_data"
    },
    {
     "name": "stdout",
     "output_type": "stream",
     "text": [
      "\n",
      "\n",
      "The model  nqg  has issue with seed 0  on dataset  geoquery\n",
      "Loading template of geoquery dataset\n"
     ]
    },
    {
     "name": "stderr",
     "output_type": "stream",
     "text": [
      "WARNING:datasets.builder:Using custom data configuration default-87c5d6366797d405\n",
      "WARNING:datasets.builder:Found cached dataset csv (/private/home/kaisersun/.cache/huggingface/datasets/csv/default-87c5d6366797d405/0.0.0/6b34fb8fcf56f7c8ba51dc895bfa2bfbe43546f190a60fcf74bb5e8afdcc2317)\n"
     ]
    },
    {
     "data": {
      "application/vnd.jupyter.widget-view+json": {
       "model_id": "d1346967bc814f2da366bd0a2f596e76",
       "version_major": 2,
       "version_minor": 0
      },
      "text/plain": [
       "  0%|          | 0/2 [00:00<?, ?it/s]"
      ]
     },
     "metadata": {},
     "output_type": "display_data"
    },
    {
     "name": "stdout",
     "output_type": "stream",
     "text": [
      "Loading template of geoquery dataset\n"
     ]
    },
    {
     "name": "stderr",
     "output_type": "stream",
     "text": [
      "WARNING:datasets.builder:Using custom data configuration default-87c5d6366797d405\n",
      "WARNING:datasets.builder:Found cached dataset csv (/private/home/kaisersun/.cache/huggingface/datasets/csv/default-87c5d6366797d405/0.0.0/6b34fb8fcf56f7c8ba51dc895bfa2bfbe43546f190a60fcf74bb5e8afdcc2317)\n"
     ]
    },
    {
     "data": {
      "application/vnd.jupyter.widget-view+json": {
       "model_id": "27e56c2dfaf14e5bb5570bb3fa69e4c3",
       "version_major": 2,
       "version_minor": 0
      },
      "text/plain": [
       "  0%|          | 0/2 [00:00<?, ?it/s]"
      ]
     },
     "metadata": {},
     "output_type": "display_data"
    },
    {
     "name": "stderr",
     "output_type": "stream",
     "text": [
      "/private/home/kaisersun/CompGenComparision/utils/evaluate_utils.py:125: FutureWarning: The frame.append method is deprecated and will be removed from pandas in a future version. Use pandas.concat instead.\n",
      "  res = res.append(std, ignore_index=True)\n",
      "/private/home/kaisersun/CompGenComparision/utils/evaluate_utils.py:126: FutureWarning: The frame.append method is deprecated and will be removed from pandas in a future version. Use pandas.concat instead.\n",
      "  res = res.append(mean, ignore_index=True)\n"
     ]
    },
    {
     "name": "stdout",
     "output_type": "stream",
     "text": [
      "\n",
      "\n",
      "The model  nqg  has issue with seed 12345  on dataset  geoquery\n",
      "Loading test of geoquery dataset\n"
     ]
    },
    {
     "name": "stderr",
     "output_type": "stream",
     "text": [
      "WARNING:datasets.builder:Using custom data configuration default-a2bc6021a757c384\n"
     ]
    },
    {
     "name": "stdout",
     "output_type": "stream",
     "text": [
      "Downloading and preparing dataset csv/default to /private/home/kaisersun/.cache/huggingface/datasets/csv/default-a2bc6021a757c384/0.0.0/6b34fb8fcf56f7c8ba51dc895bfa2bfbe43546f190a60fcf74bb5e8afdcc2317...\n",
      "\n",
      "\n",
      "The model  nqg  has issue with seed 0  on dataset  geoquery\n",
      "Loading test of geoquery dataset\n"
     ]
    },
    {
     "name": "stderr",
     "output_type": "stream",
     "text": [
      "WARNING:datasets.builder:Using custom data configuration default-a2bc6021a757c384\n"
     ]
    },
    {
     "name": "stdout",
     "output_type": "stream",
     "text": [
      "Downloading and preparing dataset csv/default to /private/home/kaisersun/.cache/huggingface/datasets/csv/default-a2bc6021a757c384/0.0.0/6b34fb8fcf56f7c8ba51dc895bfa2bfbe43546f190a60fcf74bb5e8afdcc2317...\n",
      "\n",
      "\n",
      "The model  nqg  has issue with seed 42  on dataset  geoquery\n",
      "Loading test of geoquery dataset\n"
     ]
    },
    {
     "name": "stderr",
     "output_type": "stream",
     "text": [
      "WARNING:datasets.builder:Using custom data configuration default-a2bc6021a757c384\n"
     ]
    },
    {
     "name": "stdout",
     "output_type": "stream",
     "text": [
      "Downloading and preparing dataset csv/default to /private/home/kaisersun/.cache/huggingface/datasets/csv/default-a2bc6021a757c384/0.0.0/6b34fb8fcf56f7c8ba51dc895bfa2bfbe43546f190a60fcf74bb5e8afdcc2317...\n",
      "\n",
      "\n",
      "The model  nqg  has issue with seed 12345  on dataset  geoquery\n",
      "Loading standard_random_str of geoquery dataset\n"
     ]
    },
    {
     "name": "stderr",
     "output_type": "stream",
     "text": [
      "WARNING:datasets.builder:Using custom data configuration default-a90f4a1d09c5531a\n",
      "WARNING:datasets.builder:Found cached dataset csv (/private/home/kaisersun/.cache/huggingface/datasets/csv/default-a90f4a1d09c5531a/0.0.0/6b34fb8fcf56f7c8ba51dc895bfa2bfbe43546f190a60fcf74bb5e8afdcc2317)\n"
     ]
    },
    {
     "data": {
      "application/vnd.jupyter.widget-view+json": {
       "model_id": "29f5c3197daa4075bac1c62234dcdc4f",
       "version_major": 2,
       "version_minor": 0
      },
      "text/plain": [
       "  0%|          | 0/2 [00:00<?, ?it/s]"
      ]
     },
     "metadata": {},
     "output_type": "display_data"
    },
    {
     "name": "stdout",
     "output_type": "stream",
     "text": [
      "\n",
      "\n",
      "The model  nqg  has issue with seed 0  on dataset  geoquery\n",
      "Loading standard_random_str of geoquery dataset\n"
     ]
    },
    {
     "name": "stderr",
     "output_type": "stream",
     "text": [
      "WARNING:datasets.builder:Using custom data configuration default-a90f4a1d09c5531a\n",
      "WARNING:datasets.builder:Found cached dataset csv (/private/home/kaisersun/.cache/huggingface/datasets/csv/default-a90f4a1d09c5531a/0.0.0/6b34fb8fcf56f7c8ba51dc895bfa2bfbe43546f190a60fcf74bb5e8afdcc2317)\n"
     ]
    },
    {
     "data": {
      "application/vnd.jupyter.widget-view+json": {
       "model_id": "13d3f80ae1be4042bb9affccfeb64fd5",
       "version_major": 2,
       "version_minor": 0
      },
      "text/plain": [
       "  0%|          | 0/2 [00:00<?, ?it/s]"
      ]
     },
     "metadata": {},
     "output_type": "display_data"
    },
    {
     "name": "stdout",
     "output_type": "stream",
     "text": [
      "\n",
      "\n",
      "The model  nqg  has issue with seed 42  on dataset  geoquery\n",
      "Loading standard_random_str of geoquery dataset\n"
     ]
    },
    {
     "name": "stderr",
     "output_type": "stream",
     "text": [
      "WARNING:datasets.builder:Using custom data configuration default-a90f4a1d09c5531a\n",
      "WARNING:datasets.builder:Found cached dataset csv (/private/home/kaisersun/.cache/huggingface/datasets/csv/default-a90f4a1d09c5531a/0.0.0/6b34fb8fcf56f7c8ba51dc895bfa2bfbe43546f190a60fcf74bb5e8afdcc2317)\n"
     ]
    },
    {
     "data": {
      "application/vnd.jupyter.widget-view+json": {
       "model_id": "a343ad0ea6c84dd09d2dad3110ccbba7",
       "version_major": 2,
       "version_minor": 0
      },
      "text/plain": [
       "  0%|          | 0/2 [00:00<?, ?it/s]"
      ]
     },
     "metadata": {},
     "output_type": "display_data"
    },
    {
     "name": "stdout",
     "output_type": "stream",
     "text": [
      "\n",
      "\n",
      "The model  nqg  has issue with seed 12345  on dataset  geoquery\n",
      "Loading standard_random_cvcv of geoquery dataset\n"
     ]
    },
    {
     "name": "stderr",
     "output_type": "stream",
     "text": [
      "WARNING:datasets.builder:Using custom data configuration default-8561e2c0aa983743\n",
      "WARNING:datasets.builder:Found cached dataset csv (/private/home/kaisersun/.cache/huggingface/datasets/csv/default-8561e2c0aa983743/0.0.0/6b34fb8fcf56f7c8ba51dc895bfa2bfbe43546f190a60fcf74bb5e8afdcc2317)\n"
     ]
    },
    {
     "data": {
      "application/vnd.jupyter.widget-view+json": {
       "model_id": "535e73f2c31e458f91335710362fd7ad",
       "version_major": 2,
       "version_minor": 0
      },
      "text/plain": [
       "  0%|          | 0/2 [00:00<?, ?it/s]"
      ]
     },
     "metadata": {},
     "output_type": "display_data"
    },
    {
     "name": "stdout",
     "output_type": "stream",
     "text": [
      "\n",
      "\n",
      "The model  nqg  has issue with seed 0  on dataset  geoquery\n",
      "Loading standard_random_cvcv of geoquery dataset\n"
     ]
    },
    {
     "name": "stderr",
     "output_type": "stream",
     "text": [
      "WARNING:datasets.builder:Using custom data configuration default-8561e2c0aa983743\n",
      "WARNING:datasets.builder:Found cached dataset csv (/private/home/kaisersun/.cache/huggingface/datasets/csv/default-8561e2c0aa983743/0.0.0/6b34fb8fcf56f7c8ba51dc895bfa2bfbe43546f190a60fcf74bb5e8afdcc2317)\n"
     ]
    },
    {
     "data": {
      "application/vnd.jupyter.widget-view+json": {
       "model_id": "1bb8318612b94b1fb972cc095861305d",
       "version_major": 2,
       "version_minor": 0
      },
      "text/plain": [
       "  0%|          | 0/2 [00:00<?, ?it/s]"
      ]
     },
     "metadata": {},
     "output_type": "display_data"
    },
    {
     "name": "stdout",
     "output_type": "stream",
     "text": [
      "\n",
      "\n",
      "The model  nqg  has issue with seed 42  on dataset  geoquery\n",
      "Loading standard_random_cvcv of geoquery dataset\n"
     ]
    },
    {
     "name": "stderr",
     "output_type": "stream",
     "text": [
      "WARNING:datasets.builder:Using custom data configuration default-8561e2c0aa983743\n",
      "WARNING:datasets.builder:Found cached dataset csv (/private/home/kaisersun/.cache/huggingface/datasets/csv/default-8561e2c0aa983743/0.0.0/6b34fb8fcf56f7c8ba51dc895bfa2bfbe43546f190a60fcf74bb5e8afdcc2317)\n"
     ]
    },
    {
     "data": {
      "application/vnd.jupyter.widget-view+json": {
       "model_id": "50d2280e223443c4bee75dc14e4e15df",
       "version_major": 2,
       "version_minor": 0
      },
      "text/plain": [
       "  0%|          | 0/2 [00:00<?, ?it/s]"
      ]
     },
     "metadata": {},
     "output_type": "display_data"
    },
    {
     "name": "stdout",
     "output_type": "stream",
     "text": [
      "\n",
      "\n",
      "The model  nqg  has issue with seed 12345  on dataset  geoquery\n"
     ]
    }
   ],
   "source": [
    "# Takes a long time, do not run\n",
    "res = evaluate_all_model_for_dataset(dataset_name='geoquery')"
   ]
  },
  {
   "cell_type": "code",
   "execution_count": null,
   "metadata": {},
   "outputs": [],
   "source": [
    "# Evaluate all models on all datasets, output will include different random seeds and avg/std\n",
    "# Takes a long time, do not run unless  \n",
    "res = evaluate_all()\n",
    "res.to_csv(os.getenv('BASE_DIR') + '/results/exact_match.csv')"
   ]
  },
  {
   "cell_type": "code",
   "execution_count": 6,
   "metadata": {},
   "outputs": [],
   "source": [
    "# Generate performance table, in which the numbers are averaged across random seeds\n",
    "res_table = pd.read_csv(os.getenv('BASE_DIR') + '/results/exact_match.csv')\n",
    "columns_to_keep = ['raw_exact_match', 'ignore_space', 'f1']\n",
    "res = gen_performance_table(columns_to_keep, res_table)\n",
    "res.to_csv(os.getenv('BASE_DIR') + '/results/perf_table.csv')"
   ]
  },
  {
   "attachments": {},
   "cell_type": "markdown",
   "metadata": {},
   "source": [
    "### Compute Concurrence\n",
    "\n",
    "This section can be ran without access to `data/`. Make sure to include `results/exact_match.csv` to execute it."
   ]
  },
  {
   "cell_type": "code",
   "execution_count": null,
   "metadata": {},
   "outputs": [],
   "source": [
    "# Takes a long time to run, can just use the pre-computed performance table\n",
    "# cogs_perf = evaluate_all_model_for_dataset('COGS')"
   ]
  },
  {
   "cell_type": "code",
   "execution_count": 5,
   "metadata": {},
   "outputs": [],
   "source": [
    "perf_table = pd.read_csv(BASE_DIR + '/results/exact_match.csv')"
   ]
  },
  {
   "cell_type": "code",
   "execution_count": 6,
   "metadata": {},
   "outputs": [],
   "source": [
    "from importlib import reload\n",
    "import analysis_utils\n",
    "reload(analysis_utils)\n",
    "from analysis_utils import compute_concurrence, compute_concurr_all"
   ]
  },
  {
   "cell_type": "code",
   "execution_count": 7,
   "metadata": {},
   "outputs": [
    {
     "name": "stdout",
     "output_type": "stream",
     "text": [
      "0.8410596026490065\n",
      "0.8644222020018197\n"
     ]
    }
   ],
   "source": [
    "# Sanity check\n",
    "print(compute_concurrence(perf_table, \"COGS\", \"COGS\", \"random_cvcv\", \"random_cvcv\"))\n",
    "print(compute_concurrence(perf_table, \"geoquery\", \"geoquery\", \"tmcd_random_cvcv\", \"tmcd_random_cvcv\"))"
   ]
  },
  {
   "cell_type": "code",
   "execution_count": 8,
   "metadata": {},
   "outputs": [
    {
     "name": "stdout",
     "output_type": "stream",
     "text": [
      "0.48774935785731754\n",
      "0.43661741390525616\n",
      "0.5862232850418468\n"
     ]
    }
   ],
   "source": [
    "# More sanity checks\n",
    "print(compute_concurrence(perf_table, \"COGS\", \"SCAN\", \"random_cvcv\", \"addprim_jump\"))\n",
    "print(compute_concurrence(perf_table, \"COGS\", \"SCAN\", \"no_mod\", \"addprim_jump\"))\n",
    "print(compute_concurrence(perf_table, \"COGS\", \"geoquery\", \"no_mod\", \"standard\"))"
   ]
  },
  {
   "cell_type": "code",
   "execution_count": 8,
   "metadata": {},
   "outputs": [],
   "source": [
    "# Compute concurrence between all datasets and their splits\n",
    "# Use metric_type to indicate the metric to compute concurrence\n",
    "# There will be some None entries, because the training are not done for all models.\n",
    "concurrences = compute_concurr_all(metric_type='ignore_space', corref='Kendall')"
   ]
  },
  {
   "cell_type": "code",
   "execution_count": null,
   "metadata": {},
   "outputs": [],
   "source": [
    "# Save the concurrences to file\n",
    "concurrences.to_csv(os.getenv('BASE_DIR') + '/results/Kendall_concurrences.csv')"
   ]
  }
 ],
 "metadata": {
  "kernelspec": {
   "display_name": "gen",
   "language": "python",
   "name": "python3"
  },
  "language_info": {
   "codemirror_mode": {
    "name": "ipython",
    "version": 3
   },
   "file_extension": ".py",
   "mimetype": "text/x-python",
   "name": "python",
   "nbconvert_exporter": "python",
   "pygments_lexer": "ipython3",
   "version": "3.9.12"
  },
  "orig_nbformat": 4,
  "vscode": {
   "interpreter": {
    "hash": "d93c15ccce56fd147282e5a685498c153716f1ad1db6309375a6b8c6a72806b9"
   }
  }
 },
 "nbformat": 4,
 "nbformat_minor": 2
}
